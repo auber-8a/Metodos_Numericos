{
 "cells": [
  {
   "cell_type": "markdown",
   "metadata": {},
   "source": [
    "##   Escuela Politécnica Nacional   \n",
    "## Ingeniería de Ciencias de la Computación   \n",
    "##  Métodos Numéricos   \n",
    "### Descomposición LU\n",
    "### Aubertin Ochoa          \n",
    "### 05/02/2025\n",
    "\n",
    "[Link GITHUB]() "
   ]
  },
  {
   "cell_type": "markdown",
   "metadata": {},
   "source": [
    "# <span style=\"color:orange\"> *Ejercicios Propuestos* </span>\n",
    "## <span style=\"color:orange\"> *1. Realice las siguientes multiplicaciones matriz-matriz:* </span>\n",
    "\n",
    "\n",
    "### a.\n",
    "$$\n",
    "\\begin{bmatrix} \n",
    "2 & -3 \\\\ \n",
    "3 & -1 \n",
    "\\end{bmatrix}   \n",
    "     \n",
    "\\begin{bmatrix} \n",
    "1 & 5 \\\\ \n",
    "2 & 0 \n",
    "\\end{bmatrix}\n",
    "$$"
   ]
  },
  {
   "cell_type": "code",
   "execution_count": null,
   "metadata": {},
   "outputs": [],
   "source": []
  },
  {
   "cell_type": "markdown",
   "metadata": {},
   "source": [
    "### b.\n",
    "$$\n",
    "\\begin{bmatrix} \n",
    "2 & -3 \\\\ \n",
    "3 & -1 \n",
    "\\end{bmatrix}\n",
    "\\begin{bmatrix} \n",
    "1 & 5 & -4 \\\\ \n",
    "-3 & 2 & 0 \n",
    "\\end{bmatrix}\n",
    "$$"
   ]
  },
  {
   "cell_type": "code",
   "execution_count": null,
   "metadata": {},
   "outputs": [],
   "source": []
  },
  {
   "cell_type": "markdown",
   "metadata": {},
   "source": [
    "### c.\n",
    "$$\n",
    "\\begin{bmatrix} \n",
    "2 & -3 & 1 \\\\ \n",
    "4 & 3 & 0 \\\\ \n",
    "5 & 2 & -4 \n",
    "\\end{bmatrix}\n",
    "\\begin{bmatrix} \n",
    "0 & 1 & -2 \\\\ \n",
    "1 & 0 & -1 \\\\ \n",
    "2 & 3 & -2 \n",
    "\\end{bmatrix}\n",
    "$$"
   ]
  },
  {
   "cell_type": "code",
   "execution_count": null,
   "metadata": {},
   "outputs": [],
   "source": []
  },
  {
   "cell_type": "markdown",
   "metadata": {},
   "source": [
    "### d.\n",
    "$$\n",
    "\\begin{bmatrix} \n",
    "2 & 1 & 2 \\\\ \n",
    "-2 & 3 & 0 \\\\ \n",
    "2 & -1 & 3 \n",
    "\\end{bmatrix}\n",
    "\\begin{bmatrix} \n",
    "1 & -2 \\\\ \n",
    "-4 & 1 \\\\ \n",
    "0 & 2 \n",
    "\\end{bmatrix}\n",
    "$$"
   ]
  },
  {
   "cell_type": "code",
   "execution_count": null,
   "metadata": {},
   "outputs": [],
   "source": []
  },
  {
   "cell_type": "markdown",
   "metadata": {},
   "source": [
    "# <span style=\"color:orange\"> *2. Determine cuáles de las siguientes matrices son no singulares y calcule la inversa de esas matrices:* </span>\n",
    "\n",
    "### a.\n",
    "$$\n",
    "\\begin{bmatrix} \n",
    "4 & 2 & 6 \\\\ \n",
    "3 & 0 & 7 \\\\ \n",
    "-2 & -1 & -3 \n",
    "\\end{bmatrix}\n",
    "$$"
   ]
  },
  {
   "cell_type": "code",
   "execution_count": null,
   "metadata": {},
   "outputs": [],
   "source": []
  },
  {
   "cell_type": "markdown",
   "metadata": {},
   "source": [
    "### b.\n",
    "$$\n",
    "\\begin{bmatrix} \n",
    "1 & 2 & 0 \\\\ \n",
    "2 & 1 & -1 \\\\ \n",
    "3 & 1 & 1 \n",
    "\\end{bmatrix}\n",
    "$$"
   ]
  },
  {
   "cell_type": "code",
   "execution_count": null,
   "metadata": {},
   "outputs": [],
   "source": []
  },
  {
   "cell_type": "markdown",
   "metadata": {},
   "source": [
    "### c.\n",
    "$$\n",
    "\\begin{bmatrix} \n",
    "1 & 1 & -1 & 1 \\\\ \n",
    "1 & 2 & -4 & -2 \\\\ \n",
    "2 & 1 & 1 & 5 \\\\ \n",
    "-1 & 0 & -2 & -4 \n",
    "\\end{bmatrix}\n",
    "$$"
   ]
  },
  {
   "cell_type": "code",
   "execution_count": null,
   "metadata": {},
   "outputs": [],
   "source": []
  },
  {
   "cell_type": "markdown",
   "metadata": {},
   "source": [
    "### d.\n",
    "$$\n",
    "\\begin{bmatrix} \n",
    "4 & 0 & 0 & 0 \\\\ \n",
    "6 & 7 & 0 & 9 \\\\ \n",
    "9 & 11 & 1 & 0 \\\\ \n",
    "5 & 4 & 1 & 3 \n",
    "\\end{bmatrix}\n",
    "$$"
   ]
  },
  {
   "cell_type": "code",
   "execution_count": null,
   "metadata": {},
   "outputs": [],
   "source": []
  },
  {
   "cell_type": "markdown",
   "metadata": {},
   "source": [
    "# <span style=\"color:orange\"> *3. Resuelva los sistemas lineales $ 4 \\times 4 $ que tienen la misma matriz de coeficientes:* </span>\n",
    "\n",
    "### Primer sistema:\n",
    "$$\n",
    "\\begin{aligned}\n",
    "    x_1 - x_2 + 2x_3 - x_4 &= 6, \\\\\n",
    "    x_1 - x_3 + x_4 &= 4, \\\\\n",
    "    2x_1 + x_2 + 3x_3 - 4x_4 &= -2, \\\\\n",
    "    -x_2 + x_3 - x_4 &= 5.\n",
    "\\end{aligned}\n",
    "$$\n"
   ]
  },
  {
   "cell_type": "markdown",
   "metadata": {},
   "source": [
    "### Segundo sistema:\n",
    "$$\n",
    "\\begin{aligned}\n",
    "    x_1 - x_2 + 2x_3 - x_4 &= 1, \\\\\n",
    "    x_1 - x_3 + x_4 &= 1, \\\\\n",
    "    2x_1 + x_2 + 3x_3 - 4x_4 &= 2, \\\\\n",
    "    -x_2 + x_3 - x_4 &= -1.\n",
    "\\end{aligned}\n",
    "$$"
   ]
  },
  {
   "cell_type": "markdown",
   "metadata": {},
   "source": [
    "# <span style=\"color:orange\"> *4. Encuentre los valores de $ A $ que hacen que la siguiente matriz sea singular.* </span>\n",
    " \n",
    "$$\n",
    "A =\n",
    "\\begin{bmatrix} \n",
    "1 & -1 & \\alpha \\\\ \n",
    "2 & 2 & 1 \\\\ \n",
    "0 & \\alpha & -\\frac{3}{2} \n",
    "\\end{bmatrix}\n",
    "$$"
   ]
  },
  {
   "cell_type": "markdown",
   "metadata": {},
   "source": [
    "# <span style=\"color:orange\"> *5. Resuelva los siguientes sistemas lineales:* </span>\n",
    "\n",
    "### a.\n",
    "$$\n",
    "\\begin{bmatrix} \n",
    "1 & 0 & 0 \\\\ \n",
    "2 & 1 & 0 \\\\ \n",
    "-1 & 0 & 1 \n",
    "\\end{bmatrix}\n",
    "\\begin{bmatrix} \n",
    "2 & 3 & -1 \\\\ \n",
    "0 & -2 & 1 \\\\ \n",
    "0 & 0 & 3 \n",
    "\\end{bmatrix}\n",
    "\\begin{bmatrix} \n",
    "x_1 \\\\ \n",
    "x_2 \\\\ \n",
    "x_3 \n",
    "\\end{bmatrix}\n",
    "=\n",
    "\\begin{bmatrix} \n",
    "2 \\\\ \n",
    "-1 \\\\ \n",
    "1 \n",
    "\\end{bmatrix}\n",
    "$$"
   ]
  },
  {
   "cell_type": "markdown",
   "metadata": {},
   "source": [
    "### b.\n",
    "$$\n",
    "\\begin{bmatrix} \n",
    "2 & 0 & 0 \\\\ \n",
    "-1 & 1 & 0 \\\\ \n",
    "3 & 2 & -1 \n",
    "\\end{bmatrix}\n",
    "\\begin{bmatrix} \n",
    "1 & 1 & 1 \\\\ \n",
    "0 & 1 & 2 \\\\ \n",
    "0 & 0 & 1 \n",
    "\\end{bmatrix}\n",
    "\\begin{bmatrix} \n",
    "x_1 \\\\ \n",
    "x_2 \\\\ \n",
    "x_3 \n",
    "\\end{bmatrix}\n",
    "=\n",
    "\\begin{bmatrix} \n",
    "-1 \\\\ \n",
    "3 \\\\ \n",
    "0 \n",
    "\\end{bmatrix}\n",
    "$$"
   ]
  },
  {
   "cell_type": "markdown",
   "metadata": {},
   "source": [
    "# <span style=\"color:orange\"> *6. Factorice las siguientes matrices en la descomposición LU mediante el algoritmo de factorización LU con $ l_{ii} = 1 $ para todas las $ i $.* </span>\n",
    "\n",
    "### **a.**\n",
    "$$\n",
    "\\begin{bmatrix}\n",
    "2 & -1 & 1 \\\\\n",
    "3 & 3 & 9 \\\\\n",
    "3 & 3 & 5\n",
    "\\end{bmatrix}\n",
    "$$"
   ]
  },
  {
   "cell_type": "markdown",
   "metadata": {},
   "source": [
    "### **b.**\n",
    "$$\n",
    "\\begin{bmatrix}\n",
    "1.012 & -2.132 & 3.104 \\\\\n",
    "-2.132 & 4.096 & -7.013 \\\\\n",
    "3.104 & -7.013 & 0.014\n",
    "\\end{bmatrix}\n",
    "$$"
   ]
  },
  {
   "cell_type": "markdown",
   "metadata": {},
   "source": [
    "### **c.**\n",
    "$$\n",
    "\\begin{bmatrix}\n",
    "2 & 0 & 0 & 0 \\\\\n",
    "1 & 1.5 & 0 & 0 \\\\\n",
    "0 & -3 & 0.5 & 0 \\\\\n",
    "2 & -2 & 1 & 1\n",
    "\\end{bmatrix}\n",
    "$$"
   ]
  },
  {
   "cell_type": "markdown",
   "metadata": {},
   "source": [
    "### **d.**\n",
    "$$\n",
    "\\begin{bmatrix}\n",
    "2.1756 & 4.0231 & -2.1732 & 5.1967 \\\\\n",
    "-4.0231 & 6.0000 & 0 & 1.1973 \\\\\n",
    "-1.0000 & -5.2107 & 1.1111 & 0 \\\\\n",
    "6.0235 & 7.0000 & 0 & -4.1561\n",
    "\\end{bmatrix}\n",
    "$$"
   ]
  },
  {
   "cell_type": "markdown",
   "metadata": {},
   "source": [
    "# <span style=\"color:orange\"> *7. Modifique el algoritmo de eliminación gaussiana de tal forma que se pueda utilizar para resolver un sistema lineal usando la descomposición LU y, a continuación, resuelva los siguientes sistemas lineales.* </span>\n",
    "\n"
   ]
  },
  {
   "cell_type": "markdown",
   "metadata": {},
   "source": [
    "### **a.**\n",
    "$$\n",
    "\\begin{aligned}\n",
    "2x_1 - x_2 + x_3 &= -1, \\\\\n",
    "3x_1 + 3x_2 + 9x_3 &= 0, \\\\\n",
    "3x_1 + 3x_2 + 5x_3 &= 4.\n",
    "\\end{aligned}\n",
    "$$"
   ]
  },
  {
   "cell_type": "markdown",
   "metadata": {},
   "source": [
    "### **b.**\n",
    "$$\n",
    "\\begin{aligned}\n",
    "1.012x_1 - 2.132x_2 + 3.104x_3 &= 1.984, \\\\\n",
    "-2.132x_1 + 4.096x_2 - 7.013x_3 &= -5.049, \\\\\n",
    "3.104x_1 - 7.013x_2 + 0.014x_3 &= -3.895.\n",
    "\\end{aligned}\n",
    "$$"
   ]
  },
  {
   "cell_type": "markdown",
   "metadata": {},
   "source": [
    "### **c.**\n",
    "$$\n",
    "\\begin{aligned}\n",
    "2x_1 &= 3, \\\\\n",
    "x_1 + 1.5x_2 &= 4.5, \\\\\n",
    "-3x_2 + 0.5x_3 &= -6.6, \\\\\n",
    "2x_1 - 2x_2 + x_3 + x_4 &= 0.8.\n",
    "\\end{aligned}\n",
    "$$"
   ]
  },
  {
   "cell_type": "markdown",
   "metadata": {},
   "source": [
    "### **d.**\n",
    "$$\n",
    "\\begin{aligned}\n",
    "2.1756x_1 + 4.0231x_2 - 2.1732x_3 + 5.1967x_4 &= 17.102, \\\\\n",
    "-4.0231x_1 + 6.0000x_2 + 1.1973x_4 &= -6.1593, \\\\\n",
    "-1.0000x_1 - 5.2107x_2 + 1.1111x_3 &= 3.0004, \\\\\n",
    "6.0235x_1 + 7.0000x_2 - 4.1561x_4 &= 0.0000.\n",
    "\\end{aligned}\n",
    "$$"
   ]
  }
 ],
 "metadata": {
  "kernelspec": {
   "display_name": "Python 3",
   "language": "python",
   "name": "python3"
  },
  "language_info": {
   "codemirror_mode": {
    "name": "ipython",
    "version": 3
   },
   "file_extension": ".py",
   "mimetype": "text/x-python",
   "name": "python",
   "nbconvert_exporter": "python",
   "pygments_lexer": "ipython3",
   "version": "3.13.1"
  }
 },
 "nbformat": 4,
 "nbformat_minor": 2
}
