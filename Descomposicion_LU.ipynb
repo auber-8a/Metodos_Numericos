{
 "cells": [
  {
   "cell_type": "markdown",
   "metadata": {},
   "source": [
    "##   Escuela Politécnica Nacional   \n",
    "## Ingeniería de Ciencias de la Computación   \n",
    "##  Métodos Numéricos   \n",
    "### Descomposición LU\n",
    "### Aubertin Ochoa          \n",
    "### 05/02/2025\n",
    "\n",
    "[Link GITHUB](https://github.com/auber-8a/Metodos_Numericos/blob/1c0274c81ae5774c9a3ef093cda28a52459d4894/Descomposicion_LU.ipynb) "
   ]
  },
  {
   "cell_type": "markdown",
   "metadata": {},
   "source": [
    "# <span style=\"color:orange\"> *Ejercicios Propuestos* </span>\n",
    "## <span style=\"color:orange\"> *1. Realice las siguientes multiplicaciones matriz-matriz:* </span>\n",
    "\n",
    "\n",
    "### a.\n",
    "$$\n",
    "\\begin{bmatrix} \n",
    "2 & -3 \\\\ \n",
    "3 & -1 \n",
    "\\end{bmatrix}   \n",
    "     \n",
    "\\begin{bmatrix} \n",
    "1 & 5 \\\\ \n",
    "2 & 0 \n",
    "\\end{bmatrix}\n",
    "$$"
   ]
  },
  {
   "cell_type": "code",
   "execution_count": 1,
   "metadata": {},
   "outputs": [],
   "source": [
    "import numpy as np\n",
    "\n",
    "def multiplicacion(a, b):\n",
    "    return np.dot(a, b)"
   ]
  },
  {
   "cell_type": "code",
   "execution_count": 2,
   "metadata": {},
   "outputs": [
    {
     "data": {
      "text/plain": [
       "array([[-4, 10],\n",
       "       [ 1, 15]])"
      ]
     },
     "execution_count": 2,
     "metadata": {},
     "output_type": "execute_result"
    }
   ],
   "source": [
    "A1 = np.array([[2, -3], [3, -1]])\n",
    "A2 = np.array([[1, 5], [2, 0]])\n",
    "\n",
    "multiplicacion(A1, A2)"
   ]
  },
  {
   "cell_type": "markdown",
   "metadata": {},
   "source": [
    "### b.\n",
    "$$\n",
    "\\begin{bmatrix} \n",
    "2 & -3 \\\\ \n",
    "3 & -1 \n",
    "\\end{bmatrix}\n",
    "\\begin{bmatrix} \n",
    "1 & 5 & -4 \\\\ \n",
    "-3 & 2 & 0 \n",
    "\\end{bmatrix}\n",
    "$$"
   ]
  },
  {
   "cell_type": "code",
   "execution_count": 4,
   "metadata": {},
   "outputs": [
    {
     "data": {
      "text/plain": [
       "array([[ 11,   4,  -8],\n",
       "       [  6,  13, -12]])"
      ]
     },
     "execution_count": 4,
     "metadata": {},
     "output_type": "execute_result"
    }
   ],
   "source": [
    "B1 = np.array([[2, -3], [3,-1]])\n",
    "B2 = np.array([[1, 5, -4], [-3, 2, 0]])\n",
    "\n",
    "multiplicacion(B1, B2)"
   ]
  },
  {
   "cell_type": "markdown",
   "metadata": {},
   "source": [
    "### c.\n",
    "$$\n",
    "\\begin{bmatrix} \n",
    "2 & -3 & 1 \\\\ \n",
    "4 & 3 & 0 \\\\ \n",
    "5 & 2 & -4 \n",
    "\\end{bmatrix}\n",
    "\\begin{bmatrix} \n",
    "0 & 1 & -2 \\\\ \n",
    "1 & 0 & -1 \\\\ \n",
    "2 & 3 & -2 \n",
    "\\end{bmatrix}\n",
    "$$"
   ]
  },
  {
   "cell_type": "code",
   "execution_count": 5,
   "metadata": {},
   "outputs": [
    {
     "data": {
      "text/plain": [
       "array([[ -1,   5,  -3],\n",
       "       [  3,   4, -11],\n",
       "       [ -6,  -7,  -4]])"
      ]
     },
     "execution_count": 5,
     "metadata": {},
     "output_type": "execute_result"
    }
   ],
   "source": [
    "C1 = np.array([[2, -3, 1], [4, 3, 0], [5, 2, -4]])\n",
    "C2 = np.array([[0, 1, -2], [1, 0, -1], [2, 3, -2]])\n",
    "\n",
    "multiplicacion(C1, C2)"
   ]
  },
  {
   "cell_type": "markdown",
   "metadata": {},
   "source": [
    "### d.\n",
    "$$\n",
    "\\begin{bmatrix} \n",
    "2 & 1 & 2 \\\\ \n",
    "-2 & 3 & 0 \\\\ \n",
    "2 & -1 & 3 \n",
    "\\end{bmatrix}\n",
    "\\begin{bmatrix} \n",
    "1 & -2 \\\\ \n",
    "-4 & 1 \\\\ \n",
    "0 & 2 \n",
    "\\end{bmatrix}\n",
    "$$"
   ]
  },
  {
   "cell_type": "code",
   "execution_count": 6,
   "metadata": {},
   "outputs": [
    {
     "data": {
      "text/plain": [
       "array([[ -2,   1],\n",
       "       [-14,   7],\n",
       "       [  6,   1]])"
      ]
     },
     "execution_count": 6,
     "metadata": {},
     "output_type": "execute_result"
    }
   ],
   "source": [
    "D1 = np.array([[2, 1, 2], [-2, 3, 0], [2, -1, 3]])\n",
    "D2 = np.array([[1, -2], [-4, 1], [0, 2]])\n",
    "\n",
    "multiplicacion(D1, D2)"
   ]
  },
  {
   "cell_type": "markdown",
   "metadata": {},
   "source": [
    "# <span style=\"color:orange\"> *2. Determine cuáles de las siguientes matrices son no singulares y calcule la inversa de esas matrices:* </span>\n",
    "\n",
    "### a.\n",
    "$$\n",
    "\\begin{bmatrix} \n",
    "4 & 2 & 6 \\\\ \n",
    "3 & 0 & 7 \\\\ \n",
    "-2 & -1 & -3 \n",
    "\\end{bmatrix}\n",
    "$$"
   ]
  },
  {
   "cell_type": "code",
   "execution_count": 16,
   "metadata": {},
   "outputs": [],
   "source": [
    "import numpy as np\n",
    "\n",
    "def inversa_de_lista(matrices):\n",
    "    inversas = []\n",
    "    for i, M in enumerate(matrices):\n",
    "        det = np.linalg.det(M)\n",
    "        if det != 0:\n",
    "            inv = np.linalg.inv(M)\n",
    "            inversas.append(inv)\n",
    "            print(f\"Matriz es no singular y su inversa es:\\n{inv}\\n\")\n",
    "        else:\n",
    "            inversas.append(None)\n",
    "            print(f\"Matriz es singular y no tiene inversa.\\n\")\n",
    "    return inversas\n",
    "\n",
    "def inversa(A):\n",
    "    det = np.linalg.det(A)\n",
    "    if det != 0:\n",
    "        inv = np.linalg.inv(A)\n",
    "        return inv\n",
    "    else:\n",
    "        print(\"La matriz proporcionada es singular y no tiene inversa.\")\n",
    "        return None"
   ]
  },
  {
   "cell_type": "code",
   "execution_count": 23,
   "metadata": {},
   "outputs": [
    {
     "name": "stdout",
     "output_type": "stream",
     "text": [
      "Matriz es singular y no tiene inversa.\n",
      "\n"
     ]
    }
   ],
   "source": [
    "matrices = [\n",
    "    np.array([[4, 2, 6], [3, 0, 7], [-2, -1, -3]]),\n",
    "   \n",
    "]\n",
    "\n",
    "x = inversa_de_lista(matrices)"
   ]
  },
  {
   "cell_type": "markdown",
   "metadata": {},
   "source": [
    "### b.\n",
    "$$\n",
    "\\begin{bmatrix} \n",
    "1 & 2 & 0 \\\\ \n",
    "2 & 1 & -1 \\\\ \n",
    "3 & 1 & 1 \n",
    "\\end{bmatrix}\n",
    "$$"
   ]
  },
  {
   "cell_type": "code",
   "execution_count": 24,
   "metadata": {},
   "outputs": [
    {
     "name": "stdout",
     "output_type": "stream",
     "text": [
      "Matriz es no singular y su inversa es:\n",
      "[[-0.25   0.25   0.25 ]\n",
      " [ 0.625 -0.125 -0.125]\n",
      " [ 0.125 -0.625  0.375]]\n",
      "\n"
     ]
    }
   ],
   "source": [
    "matrices = [\n",
    "    np.array([[1, 2, 0], [2, 1, -1], [3, 1, 1]])\n",
    "   \n",
    "]\n",
    "\n",
    "x = inversa_de_lista(matrices)"
   ]
  },
  {
   "cell_type": "markdown",
   "metadata": {},
   "source": [
    "### c.\n",
    "$$\n",
    "\\begin{bmatrix} \n",
    "1 & 1 & -1 & 1 \\\\ \n",
    "1 & 2 & -4 & -2 \\\\ \n",
    "2 & 1 & 1 & 5 \\\\ \n",
    "-1 & 0 & -2 & -4 \n",
    "\\end{bmatrix}\n",
    "$$"
   ]
  },
  {
   "cell_type": "code",
   "execution_count": 25,
   "metadata": {},
   "outputs": [
    {
     "name": "stdout",
     "output_type": "stream",
     "text": [
      "Matriz es singular y no tiene inversa.\n",
      "\n"
     ]
    }
   ],
   "source": [
    "matrices = [\n",
    "    np.array([[1, 1, -1, 1], [1, 2, -4, -2], [2, 1, 1, 5], [-1, 0, -2, -4]])\n",
    "   \n",
    "]\n",
    "\n",
    "x = inversa_de_lista(matrices)"
   ]
  },
  {
   "cell_type": "markdown",
   "metadata": {},
   "source": [
    "### d.\n",
    "$$\n",
    "\\begin{bmatrix} \n",
    "4 & 0 & 0 & 0 \\\\ \n",
    "6 & 7 & 0 & 9 \\\\ \n",
    "9 & 11 & 1 & 0 \\\\ \n",
    "5 & 4 & 1 & 3 \n",
    "\\end{bmatrix}\n",
    "$$"
   ]
  },
  {
   "cell_type": "code",
   "execution_count": 26,
   "metadata": {},
   "outputs": [
    {
     "name": "stdout",
     "output_type": "stream",
     "text": [
      "Matriz es no singular y su inversa es:\n",
      "[[ 0.25        0.          0.          0.        ]\n",
      " [-0.21428571  0.14285714 -0.         -0.        ]\n",
      " [ 0.10714286 -1.57142857  1.         -0.        ]\n",
      " [-0.5         1.         -1.          1.        ]]\n",
      "\n"
     ]
    }
   ],
   "source": [
    "matrices = [\n",
    "    np.array([[4, 0, 0, 0], [6, 7, 0, 0], [9, 11, 1, 0], [5, 4, 1, 1]])\n",
    "   \n",
    "]\n",
    "\n",
    "x = inversa_de_lista(matrices)"
   ]
  },
  {
   "cell_type": "markdown",
   "metadata": {},
   "source": [
    "# <span style=\"color:orange\"> *3. Resuelva los sistemas lineales $ 4 \\times 4 $ que tienen la misma matriz de coeficientes:* </span>\n",
    "\n",
    "### Primer sistema:\n",
    "$$\n",
    "\\begin{aligned}\n",
    "    x_1 - x_2 + 2x_3 - x_4 &= 6, \\\\\n",
    "    x_1 - x_3 + x_4 &= 4, \\\\\n",
    "    2x_1 + x_2 + 3x_3 - 4x_4 &= -2, \\\\\n",
    "    -x_2 + x_3 - x_4 &= 5.\n",
    "\\end{aligned}\n",
    "$$\n"
   ]
  },
  {
   "cell_type": "markdown",
   "metadata": {},
   "source": [
    "### Segundo sistema:\n",
    "$$\n",
    "\\begin{aligned}\n",
    "    x_1 - x_2 + 2x_3 - x_4 &= 1, \\\\\n",
    "    x_1 - x_3 + x_4 &= 1, \\\\\n",
    "    2x_1 + x_2 + 3x_3 - 4x_4 &= 2, \\\\\n",
    "    -x_2 + x_3 - x_4 &= -1.\n",
    "\\end{aligned}\n",
    "$$"
   ]
  },
  {
   "cell_type": "code",
   "execution_count": 3,
   "metadata": {},
   "outputs": [
    {
     "name": "stdout",
     "output_type": "stream",
     "text": [
      "Solución del primer sistema:\n",
      " [ 2.14285714 -6.85714286 -8.         -6.14285714]\n",
      "\n",
      "Solución del segundo sistema:\n",
      " [1.14285714 1.14285714 2.         1.85714286]\n"
     ]
    }
   ],
   "source": [
    "import numpy as np\n",
    "\n",
    "A = np.array([[1, -2, 2, -1], [1, 0, -1, 1], [2, 1, 3, -4], [0, -1, 1, -1]])\n",
    "b1 = np.array([6, 4, -2, 5])\n",
    "b2 = np.array([1, 1, 2, -1])\n",
    "\n",
    "x1 = np.linalg.solve(A, b1)\n",
    "x2 = np.linalg.solve(A, b2)\n",
    "\n",
    "print(\"Solución del primer sistema:\\n\", x1)\n",
    "print(\"\\nSolución del segundo sistema:\\n\", x2)"
   ]
  },
  {
   "cell_type": "markdown",
   "metadata": {},
   "source": [
    "# <span style=\"color:orange\"> *4. Encuentre los valores de $ A $ que hacen que la siguiente matriz sea singular.* </span>\n",
    " \n",
    "$$\n",
    "A =\n",
    "\\begin{bmatrix} \n",
    "1 & -1 & \\alpha \\\\ \n",
    "2 & 2 & 1 \\\\ \n",
    "0 & \\alpha & -\\frac{3}{2} \n",
    "\\end{bmatrix}\n",
    "$$"
   ]
  },
  {
   "cell_type": "code",
   "execution_count": 9,
   "metadata": {},
   "outputs": [
    {
     "name": "stdout",
     "output_type": "stream",
     "text": [
      "Valores de α que hacen la matriz singular: [-1.50000000000000, 2.00000000000000]\n"
     ]
    }
   ],
   "source": [
    "import sympy as sp\n",
    "\n",
    "alpha = sp.symbols('alpha')\n",
    "\n",
    "A = sp.Matrix([\n",
    "    [1, -1, alpha],\n",
    "    [2, 2, 1],\n",
    "    [0, alpha, -3/2]\n",
    "])\n",
    "\n",
    "det_A = A.det()\n",
    "\n",
    "singular_values = sp.solve(det_A, alpha)\n",
    "\n",
    "print(\"Valores de α que hacen la matriz singular:\", singular_values)"
   ]
  },
  {
   "cell_type": "markdown",
   "metadata": {},
   "source": [
    "# <span style=\"color:orange\"> *5. Resuelva los siguientes sistemas lineales:* </span>\n",
    "\n",
    "### a.\n",
    "$$\n",
    "\\begin{bmatrix} \n",
    "1 & 0 & 0 \\\\ \n",
    "2 & 1 & 0 \\\\ \n",
    "-1 & 0 & 1 \n",
    "\\end{bmatrix}\n",
    "\\begin{bmatrix} \n",
    "2 & 3 & -1 \\\\ \n",
    "0 & -2 & 1 \\\\ \n",
    "0 & 0 & 3 \n",
    "\\end{bmatrix}\n",
    "\\begin{bmatrix} \n",
    "x_1 \\\\ \n",
    "x_2 \\\\ \n",
    "x_3 \n",
    "\\end{bmatrix}\n",
    "=\n",
    "\\begin{bmatrix} \n",
    "2 \\\\ \n",
    "-1 \\\\ \n",
    "1 \n",
    "\\end{bmatrix}\n",
    "$$"
   ]
  },
  {
   "cell_type": "markdown",
   "metadata": {},
   "source": [
    "### b.\n",
    "$$\n",
    "\\begin{bmatrix} \n",
    "2 & 0 & 0 \\\\ \n",
    "-1 & 1 & 0 \\\\ \n",
    "3 & 2 & -1 \n",
    "\\end{bmatrix}\n",
    "\\begin{bmatrix} \n",
    "1 & 1 & 1 \\\\ \n",
    "0 & 1 & 2 \\\\ \n",
    "0 & 0 & 1 \n",
    "\\end{bmatrix}\n",
    "\\begin{bmatrix} \n",
    "x_1 \\\\ \n",
    "x_2 \\\\ \n",
    "x_3 \n",
    "\\end{bmatrix}\n",
    "=\n",
    "\\begin{bmatrix} \n",
    "-1 \\\\ \n",
    "3 \\\\ \n",
    "0 \n",
    "\\end{bmatrix}\n",
    "$$"
   ]
  },
  {
   "cell_type": "code",
   "execution_count": 4,
   "metadata": {},
   "outputs": [],
   "source": [
    "def resolver_LU(L: np.ndarray, U: np.ndarray, b: np.ndarray) -> np.ndarray:\n",
    "\n",
    "    n = L.shape[0]\n",
    "\n",
    "    # Sustitución hacia adelante (Ly = b)\n",
    "    y = np.zeros((n, 1), dtype=float)\n",
    "    for i in range(n):\n",
    "        y[i] = (b[i] - np.sum(L[i, :i] * y[:i])) / L[i, i]\n",
    "\n",
    "    # Sustitución hacia atrás (Ux = y)\n",
    "    x = np.zeros((n, 1), dtype=float)\n",
    "    for i in range(n - 1, -1, -1):\n",
    "        x[i] = (y[i] - np.sum(U[i, i + 1:] * x[i + 1:])) / U[i, i]\n",
    "\n",
    "    return x"
   ]
  },
  {
   "cell_type": "code",
   "execution_count": 5,
   "metadata": {},
   "outputs": [
    {
     "data": {
      "text/plain": [
       "(array([[-0.5       ],\n",
       "        [ 2.16666667],\n",
       "        [-0.66666667]]),\n",
       " array([[ 14.5],\n",
       "        [-17.5],\n",
       "        [ 10. ]]))"
      ]
     },
     "execution_count": 5,
     "metadata": {},
     "output_type": "execute_result"
    }
   ],
   "source": [
    "import numpy as np\n",
    "\n",
    "# Sistema a\n",
    "L_a = np.array([[1, 0, 0],\n",
    "                [2, 1, 0],\n",
    "                [-1, 0, 1]], dtype=float)\n",
    "\n",
    "U_a = np.array([[2, 3, -1],\n",
    "                [0, -2, 1],\n",
    "                [0, 0, 3]], dtype=float)\n",
    "\n",
    "b_a = np.array([[2], [-1], [1]], dtype=float)\n",
    "\n",
    "# Sistema b\n",
    "L_b = np.array([[2, 0, 0],\n",
    "                [-1, 1, 0],\n",
    "                [3, 2, -1]], dtype=float)\n",
    "\n",
    "U_b = np.array([[1, 1, 1],\n",
    "                [0, 1, 2],\n",
    "                [0, 0, 1]], dtype=float)\n",
    "\n",
    "b_b = np.array([[-1], [3], [0]], dtype=float)\n",
    "\n",
    "\n",
    "# Resolver los sistemas\n",
    "sol_a = resolver_LU(L_a, U_a, b_a)\n",
    "sol_b = resolver_LU(L_b, U_b, b_b)\n",
    "\n",
    "sol_a, sol_b\n"
   ]
  },
  {
   "cell_type": "markdown",
   "metadata": {},
   "source": [
    "# <span style=\"color:orange\"> *6. Factorice las siguientes matrices en la descomposición LU mediante el algoritmo de factorización LU con $ l_{ii} = 1 $ para todas las $ i $.* </span>\n",
    "\n",
    "### **a.**\n",
    "$$\n",
    "\\begin{bmatrix}\n",
    "2 & -1 & 1 \\\\\n",
    "3 & 3 & 9 \\\\\n",
    "3 & 3 & 5\n",
    "\\end{bmatrix}\n",
    "$$"
   ]
  },
  {
   "cell_type": "markdown",
   "metadata": {},
   "source": [
    "### **b.**\n",
    "$$\n",
    "\\begin{bmatrix}\n",
    "1.012 & -2.132 & 3.104 \\\\\n",
    "-2.132 & 4.096 & -7.013 \\\\\n",
    "3.104 & -7.013 & 0.014\n",
    "\\end{bmatrix}\n",
    "$$"
   ]
  },
  {
   "cell_type": "markdown",
   "metadata": {},
   "source": [
    "### **c.**\n",
    "$$\n",
    "\\begin{bmatrix}\n",
    "2 & 0 & 0 & 0 \\\\\n",
    "1 & 1.5 & 0 & 0 \\\\\n",
    "0 & -3 & 0.5 & 0 \\\\\n",
    "2 & -2 & 1 & 1\n",
    "\\end{bmatrix}\n",
    "$$"
   ]
  },
  {
   "cell_type": "markdown",
   "metadata": {},
   "source": [
    "### **d.**\n",
    "$$\n",
    "\\begin{bmatrix}\n",
    "2.1756 & 4.0231 & -2.1732 & 5.1967 \\\\\n",
    "-4.0231 & 6.0000 & 0 & 1.1973 \\\\\n",
    "-1.0000 & -5.2107 & 1.1111 & 0 \\\\\n",
    "6.0235 & 7.0000 & 0 & -4.1561\n",
    "\\end{bmatrix}\n",
    "$$"
   ]
  },
  {
   "cell_type": "code",
   "execution_count": 36,
   "metadata": {},
   "outputs": [
    {
     "name": "stdout",
     "output_type": "stream",
     "text": [
      "\n",
      "Matriz 1:\n",
      "\n",
      "L:\n",
      " [[ 1.          0.          0.        ]\n",
      " [ 0.66666667  1.          0.        ]\n",
      " [ 1.         -0.          1.        ]]\n",
      "\n",
      "U:\n",
      " [[ 3.  3.  9.]\n",
      " [ 0. -3. -5.]\n",
      " [ 0.  0. -4.]]\n",
      "\n",
      "Matriz 2:\n",
      "\n",
      "L:\n",
      " [[ 1.          0.          0.        ]\n",
      " [-0.68685567  1.          0.        ]\n",
      " [ 0.32603093 -0.21424728  1.        ]]\n",
      "\n",
      "U:\n",
      " [[ 3.104      -7.013       0.014     ]\n",
      " [ 0.         -0.72091881 -7.00338402]\n",
      " [ 0.          0.          1.59897957]]\n",
      "\n",
      "Matriz 3:\n",
      "\n",
      "L:\n",
      " [[ 1.          0.          0.          0.        ]\n",
      " [ 0.          1.          0.          0.        ]\n",
      " [ 1.          0.66666667  1.          0.        ]\n",
      " [ 0.5        -0.5         0.375       1.        ]]\n",
      "\n",
      "U:\n",
      " [[ 2.          0.          0.          0.        ]\n",
      " [ 0.         -3.          0.5         0.        ]\n",
      " [ 0.          0.          0.66666667  1.        ]\n",
      " [ 0.          0.          0.         -0.375     ]]\n",
      "\n",
      "Matriz 4:\n",
      "\n",
      "L:\n",
      " [[ 1.          0.          0.          0.        ]\n",
      " [-0.66790072  1.          0.          0.        ]\n",
      " [ 0.36118536  0.14002434  1.          0.        ]\n",
      " [-0.16601644 -0.37924771 -0.5112737   1.        ]]\n",
      "\n",
      "U:\n",
      " [[ 6.0235      7.          0.         -4.1561    ]\n",
      " [ 0.         10.67530506  0.         -1.57856219]\n",
      " [ 0.          0.         -2.1732      6.91885959]\n",
      " [ 0.          0.          0.          2.24878393]]\n"
     ]
    }
   ],
   "source": [
    "from scipy.linalg import lu\n",
    "\n",
    "# Definir matrices\n",
    "matrices = [\n",
    "    np.array([[2, -1, 1], [3, 3, 9], [3, 3, 5]]),\n",
    "    np.array([[1.012, -2.132, 3.104], [-2.132, 4.096, -7.013], [3.104, -7.013, 0.014]]),\n",
    "    np.array([[2, 0, 0, 0], [1, 1.5, 0, 0], [0, -3, 0.5, 0], [2, -2, 1, 1]]),\n",
    "    np.array([[2.1756, 4.0231, -2.1732, 5.1967], [-4.0231, 6.0000, 0, 1.1973], [-1.0000, -5.2107, 1.1111, 0], [6.0235, 7.0000, 0, -4.1561]])\n",
    "]\n",
    "\n",
    "# Factorización LU\n",
    "for i, M in enumerate(matrices):\n",
    "    P, L, U = lu(M)\n",
    "    print(f\"\\nMatriz {i+1}:\")\n",
    "    print(\"\\nL:\\n\", L)\n",
    "    print(\"\\nU:\\n\", U)"
   ]
  },
  {
   "cell_type": "markdown",
   "metadata": {},
   "source": [
    "# <span style=\"color:orange\"> *7. Modifique el algoritmo de eliminación gaussiana de tal forma que se pueda utilizar para resolver un sistema lineal usando la descomposición LU y, a continuación, resuelva los siguientes sistemas lineales.* </span>\n",
    "\n"
   ]
  },
  {
   "cell_type": "markdown",
   "metadata": {},
   "source": [
    "### **a.**\n",
    "$$\n",
    "\\begin{aligned}\n",
    "2x_1 - x_2 + x_3 &= -1, \\\\\n",
    "3x_1 + 3x_2 + 9x_3 &= 0, \\\\\n",
    "3x_1 + 3x_2 + 5x_3 &= 4.\n",
    "\\end{aligned}\n",
    "$$"
   ]
  },
  {
   "cell_type": "markdown",
   "metadata": {},
   "source": [
    "### **b.**\n",
    "$$\n",
    "\\begin{aligned}\n",
    "1.012x_1 - 2.132x_2 + 3.104x_3 &= 1.984, \\\\\n",
    "-2.132x_1 + 4.096x_2 - 7.013x_3 &= -5.049, \\\\\n",
    "3.104x_1 - 7.013x_2 + 0.014x_3 &= -3.895.\n",
    "\\end{aligned}\n",
    "$$"
   ]
  },
  {
   "cell_type": "markdown",
   "metadata": {},
   "source": [
    "### **c.**\n",
    "$$\n",
    "\\begin{aligned}\n",
    "2x_1 &= 3, \\\\\n",
    "x_1 + 1.5x_2 &= 4.5, \\\\\n",
    "-3x_2 + 0.5x_3 &= -6.6, \\\\\n",
    "2x_1 - 2x_2 + x_3 + x_4 &= 0.8.\n",
    "\\end{aligned}\n",
    "$$"
   ]
  },
  {
   "cell_type": "markdown",
   "metadata": {},
   "source": [
    "### **d.**\n",
    "$$\n",
    "\\begin{aligned}\n",
    "2.1756x_1 + 4.0231x_2 - 2.1732x_3 + 5.1967x_4 &= 17.102, \\\\\n",
    "-4.0231x_1 + 6.0000x_2 + 1.1973x_4 &= -6.1593, \\\\\n",
    "-1.0000x_1 - 5.2107x_2 + 1.1111x_3 &= 3.0004, \\\\\n",
    "6.0235x_1 + 7.0000x_2 - 4.1561x_4 &= 0.0000.\n",
    "\\end{aligned}\n",
    "$$"
   ]
  },
  {
   "cell_type": "code",
   "execution_count": 38,
   "metadata": {},
   "outputs": [
    {
     "name": "stdout",
     "output_type": "stream",
     "text": [
      "Solución del sistema a: [ 1.  2. -1.]\n",
      "Solución del sistema b: [1. 1. 1.]\n",
      "Solución del sistema c: [ 1.5  2.  -1.2  3. ]\n",
      "Solución del sistema d: [2.9398512  0.0706777  5.67773512 4.37981223]\n"
     ]
    }
   ],
   "source": [
    "import numpy as np\n",
    "\n",
    "def lu_decomposition(A):\n",
    "    n = A.shape[0]\n",
    "    L = np.eye(n)\n",
    "    U = A.copy()\n",
    "\n",
    "    for i in range(n):\n",
    "        for j in range(i+1, n):\n",
    "            L[j, i] = U[j, i] / U[i, i]\n",
    "            U[j] = U[j] - L[j, i] * U[i]\n",
    "\n",
    "    return L, U\n",
    "\n",
    "def SustitucionAdelante(L, b):\n",
    "    n = L.shape[0]\n",
    "    y = np.zeros(n)\n",
    "\n",
    "    for i in range(n):\n",
    "        y[i] = b[i] - np.dot(L[i, :i], y[:i])\n",
    "\n",
    "    return y\n",
    "\n",
    "def SustitucionAtras(U, y):\n",
    "    n = U.shape[0]\n",
    "    x = np.zeros(n)\n",
    "\n",
    "    for i in range(n-1, -1, -1):\n",
    "        x[i] = (y[i] - np.dot(U[i, i+1:], x[i+1:])) / U[i, i]\n",
    "\n",
    "    return x\n",
    "\n",
    "def solve_lu(A, b):\n",
    "    L, U = lu_decomposition(A)\n",
    "    y = SustitucionAdelante(L, b)\n",
    "    x = SustitucionAtras(U, y)\n",
    "    return x\n",
    "\n",
    "A_list = [\n",
    "    np.array([[2, -1, 1], [3, 3, 9], [3, 3, 5]], dtype=float),\n",
    "    np.array([[1.012, -2.132, 3.104], [-2.132, 4.096, -7.013], [3.104, -7.013, 0.014]], dtype=float),\n",
    "    np.array([[2, 0, 0, 0], [1, 1.5, 0, 0], [0, -3, 0.5, 0], [2, -2, 1, 1]], dtype=float),\n",
    "    np.array([[2.1756, 4.0231, -2.1732, 5.1967], [-4.0231, 6.0000, 0, 1.1973], [-1.0000, -5.2107, 1.1111, 0], [6.0235, 7.0000, 0, -4.1561]], dtype=float)\n",
    "]\n",
    "\n",
    "b_list = [\n",
    "    np.array([-1, 0, 4], dtype=float),\n",
    "    np.array([1.984, -5.049, -3.895], dtype=float),\n",
    "    np.array([3, 4.5, -6.6, 0.8], dtype=float),\n",
    "    np.array([17.102, -6.1593, 3.0004, 0], dtype=float)\n",
    "]\n",
    "\n",
    "solutions = [solve_lu(A, b) for A, b in zip(A_list, b_list)]\n",
    "\n",
    "for i, solution in enumerate(solutions):\n",
    "    print(f\"Solución del sistema {chr(97+i)}: {solution}\")"
   ]
  }
 ],
 "metadata": {
  "kernelspec": {
   "display_name": "Python 3",
   "language": "python",
   "name": "python3"
  },
  "language_info": {
   "codemirror_mode": {
    "name": "ipython",
    "version": 3
   },
   "file_extension": ".py",
   "mimetype": "text/x-python",
   "name": "python",
   "nbconvert_exporter": "python",
   "pygments_lexer": "ipython3",
   "version": "3.13.1"
  }
 },
 "nbformat": 4,
 "nbformat_minor": 2
}
