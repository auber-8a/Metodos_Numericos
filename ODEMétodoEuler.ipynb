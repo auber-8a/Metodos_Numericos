{
 "cells": [
  {
   "cell_type": "markdown",
   "metadata": {},
   "source": [
    "##   Escuela Politécnica Nacional   \n",
    "## Ingeniería de Ciencias de la Computación   \n",
    "##  Métodos Numéricos   \n",
    "### ODE Método de Euler\n",
    "### Aubertin Ochoa          \n",
    "### 05/02/2025\n",
    "\n",
    "[Link GITHUB](https://github.com/auber-8a/Metodos_Numericos/blob/fbde158d597cf82ea8e6582146681791f4616d0c/ODEM%C3%A9todoEuler.ipynb) "
   ]
  },
  {
   "cell_type": "markdown",
   "metadata": {},
   "source": [
    "# Conjunto de ejercicios\n",
    "\n",
    "## <span style=\"color:orange\"> *3. Utilice el método de Euler para aproximar las soluciones para cada uno de los siguientes problemas de valor inicial.* </span> \n",
    "\n",
    "a. $ y' = \\frac{y}{t} - \\left(\\frac{y}{t}\\right)^2 $, $ 1 \\leq t \\leq 2 $, $ y(1) = 1 $, con $ h = 0.1 $"
   ]
  },
  {
   "cell_type": "code",
   "execution_count": 9,
   "metadata": {},
   "outputs": [
    {
     "data": {
      "text/plain": [
       "([1,\n",
       "  1.0,\n",
       "  1.0082644628099173,\n",
       "  1.0216894717270375,\n",
       "  1.038514734248178,\n",
       "  1.0576681921408762,\n",
       "  1.0784610936317547,\n",
       "  1.100432164699466,\n",
       "  1.1232620515812632,\n",
       "  1.1467235965295264,\n",
       "  1.1706515695646647],\n",
       " [1,\n",
       "  1.1,\n",
       "  1.2000000000000002,\n",
       "  1.3000000000000003,\n",
       "  1.4000000000000004,\n",
       "  1.5000000000000004,\n",
       "  1.6000000000000005,\n",
       "  1.7000000000000006,\n",
       "  1.8000000000000007,\n",
       "  1.9000000000000008,\n",
       "  2.000000000000001],\n",
       " 0.1)"
      ]
     },
     "execution_count": 9,
     "metadata": {},
     "output_type": "execute_result"
    }
   ],
   "source": [
    "from src.ODE import ODE_euler_h\n",
    "\n",
    "ODE_euler_h(a=1, b=2, f= lambda t,y: y/t - (y/t)**2, y_t0 =1, h=0.1)\n",
    "\n"
   ]
  },
  {
   "cell_type": "markdown",
   "metadata": {},
   "source": [
    "b. $ y' = 1 + \\frac{y}{t} + \\left(\\frac{y}{t}\\right)^2 $, $ 1 \\leq t \\leq 3 $, $ y(1) = 0 $, con $ h = 0.2 $"
   ]
  },
  {
   "cell_type": "code",
   "execution_count": 10,
   "metadata": {},
   "outputs": [
    {
     "data": {
      "text/plain": [
       "([0,\n",
       "  0.2,\n",
       "  0.4388888888888889,\n",
       "  0.721242756361804,\n",
       "  1.0520380316573712,\n",
       "  1.4372511475238394,\n",
       "  1.8842608053291532,\n",
       "  2.402269588561542,\n",
       "  3.0028371645572136,\n",
       "  3.7006007049327985,\n",
       "  4.5142774281767],\n",
       " [1,\n",
       "  1.2,\n",
       "  1.4,\n",
       "  1.5999999999999999,\n",
       "  1.7999999999999998,\n",
       "  1.9999999999999998,\n",
       "  2.1999999999999997,\n",
       "  2.4,\n",
       "  2.6,\n",
       "  2.8000000000000003,\n",
       "  3.0000000000000004],\n",
       " 0.2)"
      ]
     },
     "execution_count": 10,
     "metadata": {},
     "output_type": "execute_result"
    }
   ],
   "source": [
    "ODE_euler_h(a=1, b=3, f=lambda t,y: 1 + y/t + (y/t)**2, y_t0= 0, h = 0.2)"
   ]
  },
  {
   "cell_type": "markdown",
   "metadata": {},
   "source": [
    "c. $ y' = -(y + 1)(y + 3) $, $ 0 \\leq t \\leq 2 $, $ y(0) = -2 $, con $ h = 0.2 $"
   ]
  },
  {
   "cell_type": "code",
   "execution_count": 11,
   "metadata": {},
   "outputs": [
    {
     "data": {
      "text/plain": [
       "([-2,\n",
       "  -1.8,\n",
       "  -1.608,\n",
       "  -1.4387328000000001,\n",
       "  -1.3017369739591682,\n",
       "  -1.199251224666308,\n",
       "  -1.1274909449059896,\n",
       "  -1.079745355150198,\n",
       "  -1.0491190774237251,\n",
       "  -1.0299539832076265,\n",
       "  -1.0181518381465764],\n",
       " [0,\n",
       "  0.2,\n",
       "  0.4,\n",
       "  0.6000000000000001,\n",
       "  0.8,\n",
       "  1.0,\n",
       "  1.2,\n",
       "  1.4,\n",
       "  1.5999999999999999,\n",
       "  1.7999999999999998,\n",
       "  1.9999999999999998],\n",
       " 0.2)"
      ]
     },
     "execution_count": 11,
     "metadata": {},
     "output_type": "execute_result"
    }
   ],
   "source": [
    "ODE_euler_h(a=0, b=2, f = lambda t,y: -(y + 1 ) * (y + 3), y_t0= -2, h = 0.2)"
   ]
  },
  {
   "cell_type": "markdown",
   "metadata": {},
   "source": [
    "d. $ y' = -5y + 5t^2 + 2t $, $ 0 \\leq t \\leq 1 $, $ y(0) = \\frac{1}{3} $, con $ h = 0.1 $"
   ]
  },
  {
   "cell_type": "code",
   "execution_count": 12,
   "metadata": {},
   "outputs": [
    {
     "data": {
      "text/plain": [
       "([0.3333333333333333,\n",
       "  0.16666666666666666,\n",
       "  0.12833333333333333,\n",
       "  0.20416666666666666,\n",
       "  0.38708333333333345,\n",
       "  0.6735416666666667,\n",
       "  1.0617708333333333,\n",
       "  1.5508854166666668,\n",
       "  2.1404427083333335,\n",
       "  2.8302213541666665,\n",
       "  3.6201106770833333],\n",
       " [0,\n",
       "  0.1,\n",
       "  0.2,\n",
       "  0.30000000000000004,\n",
       "  0.4,\n",
       "  0.5,\n",
       "  0.6,\n",
       "  0.7,\n",
       "  0.7999999999999999,\n",
       "  0.8999999999999999,\n",
       "  0.9999999999999999],\n",
       " 0.1)"
      ]
     },
     "execution_count": 12,
     "metadata": {},
     "output_type": "execute_result"
    }
   ],
   "source": [
    "ODE_euler_h(a=0, b=1, f = lambda t,y: -(5*y) + (5*t)**2 + (2*t), y_t0= 1/3, h = 0.1)"
   ]
  },
  {
   "cell_type": "markdown",
   "metadata": {},
   "source": [
    "## <span style=\"color:orange\"> *4. Aquí se dan las soluciones reales para los problemas de valor inicial en el ejercicio 3. Calcule el error real en las aproximaciones del ejercicio 3.* </span>\n",
    "\n",
    "a. $y(t) = \\frac{t}{1 + \\ln t}$"
   ]
  },
  {
   "cell_type": "code",
   "execution_count": 13,
   "metadata": {},
   "outputs": [],
   "source": [
    "import numpy as np\n",
    "from math import log, tan, exp\n",
    "\n",
    "def ODE_euler(a, b, f, y_t0, h):\n",
    "    n_steps = int((b - a) / h) + 1\n",
    "    t_values = np.linspace(a, b, n_steps)\n",
    "    y_values = np.zeros(n_steps)\n",
    "    y_values[0] = y_t0\n",
    "\n",
    "    for i in range(1, n_steps):\n",
    "        y_values[i] = y_values[i - 1] + h * f(t_values[i - 1], y_values[i - 1])\n",
    "\n",
    "    return y_values, t_values"
   ]
  },
  {
   "cell_type": "code",
   "execution_count": 14,
   "metadata": {},
   "outputs": [
    {
     "name": "stdout",
     "output_type": "stream",
     "text": [
      "Resultados del problema (a):\n",
      "t = 1.00, y = 1.0000, exacta = 1.0000, error real = 0.0000\n",
      "t = 1.10, y = 1.0000, exacta = 1.0043, error real = 0.0043\n",
      "t = 1.20, y = 1.0083, exacta = 1.0150, error real = 0.0067\n",
      "t = 1.30, y = 1.0217, exacta = 1.0298, error real = 0.0081\n",
      "t = 1.40, y = 1.0385, exacta = 1.0475, error real = 0.0090\n",
      "t = 1.50, y = 1.0577, exacta = 1.0673, error real = 0.0096\n",
      "t = 1.60, y = 1.0785, exacta = 1.0884, error real = 0.0100\n",
      "t = 1.70, y = 1.1004, exacta = 1.1107, error real = 0.0102\n",
      "t = 1.80, y = 1.1233, exacta = 1.1337, error real = 0.0104\n",
      "t = 1.90, y = 1.1467, exacta = 1.1572, error real = 0.0105\n",
      "t = 2.00, y = 1.1707, exacta = 1.1812, error real = 0.0106\n"
     ]
    }
   ],
   "source": [
    "def exact_a(t):\n",
    "    return t / (1 + log(t))\n",
    "\n",
    "def problem_a(t, y):\n",
    "    return y / t - (y / t) ** 2\n",
    "\n",
    "print(\"Resultados del problema (a):\")\n",
    "ys_a, ts_a = ODE_euler(a=1.0, b=2.0, f=problem_a, y_t0=1.0, h=0.1)\n",
    "for t, y in zip(ts_a, ys_a):\n",
    "    exact_y = exact_a(t)\n",
    "    error_real = abs(exact_y - y)\n",
    "    print(f\"t = {t:.2f}, y = {y:.4f}, exacta = {exact_y:.4f}, error real = {error_real:.4f}\")"
   ]
  },
  {
   "cell_type": "markdown",
   "metadata": {},
   "source": [
    "b. $y(t) = t \\tan(\\ln t)$"
   ]
  },
  {
   "cell_type": "code",
   "execution_count": 15,
   "metadata": {},
   "outputs": [
    {
     "name": "stdout",
     "output_type": "stream",
     "text": [
      "\n",
      "Resultados del problema (b):\n",
      "t = 1.00, y = 0.0000, exacta = 0.0000, error real = 0.0000\n",
      "t = 1.20, y = 0.2000, exacta = 0.2212, error real = 0.0212\n",
      "t = 1.40, y = 0.4389, exacta = 0.4897, error real = 0.0508\n",
      "t = 1.60, y = 0.7212, exacta = 0.8128, error real = 0.0915\n",
      "t = 1.80, y = 1.0520, exacta = 1.1994, error real = 0.1474\n",
      "t = 2.00, y = 1.4373, exacta = 1.6613, error real = 0.2240\n",
      "t = 2.20, y = 1.8843, exacta = 2.2135, error real = 0.3292\n",
      "t = 2.40, y = 2.4023, exacta = 2.8766, error real = 0.4743\n",
      "t = 2.60, y = 3.0028, exacta = 3.6785, error real = 0.6756\n",
      "t = 2.80, y = 3.7006, exacta = 4.6587, error real = 0.9581\n",
      "t = 3.00, y = 4.5143, exacta = 5.8741, error real = 1.3598\n"
     ]
    }
   ],
   "source": [
    "def exact_b(t):\n",
    "    return t * tan(log(t))\n",
    "\n",
    "def problem_b(t, y):\n",
    "    return 1 + y / t + (y / t) ** 2\n",
    "\n",
    "\n",
    "print(\"\\nResultados del problema (b):\")\n",
    "ys_b, ts_b = ODE_euler(a=1.0, b=3.0, f=problem_b, y_t0=0.0, h=0.2)\n",
    "for t, y in zip(ts_b, ys_b):\n",
    "    exact_y = exact_b(t)\n",
    "    error_real = abs(exact_y - y)\n",
    "    print(f\"t = {t:.2f}, y = {y:.4f}, exacta = {exact_y:.4f}, error real = {error_real:.4f}\")"
   ]
  },
  {
   "cell_type": "markdown",
   "metadata": {},
   "source": [
    "c. $y(t) = -3 + \\frac{2}{1 + e^{-2t}}$"
   ]
  },
  {
   "cell_type": "code",
   "execution_count": 16,
   "metadata": {},
   "outputs": [
    {
     "name": "stdout",
     "output_type": "stream",
     "text": [
      "\n",
      "Resultados del problema (b):\n",
      "t = 1.00, y = 0.0000, exacta = 0.0000, error real = 0.0000\n",
      "t = 1.20, y = 0.2000, exacta = 0.2212, error real = 0.0212\n",
      "t = 1.40, y = 0.4389, exacta = 0.4897, error real = 0.0508\n",
      "t = 1.60, y = 0.7212, exacta = 0.8128, error real = 0.0915\n",
      "t = 1.80, y = 1.0520, exacta = 1.1994, error real = 0.1474\n",
      "t = 2.00, y = 1.4373, exacta = 1.6613, error real = 0.2240\n",
      "t = 2.20, y = 1.8843, exacta = 2.2135, error real = 0.3292\n",
      "t = 2.40, y = 2.4023, exacta = 2.8766, error real = 0.4743\n",
      "t = 2.60, y = 3.0028, exacta = 3.6785, error real = 0.6756\n",
      "t = 2.80, y = 3.7006, exacta = 4.6587, error real = 0.9581\n",
      "t = 3.00, y = 4.5143, exacta = 5.8741, error real = 1.3598\n"
     ]
    }
   ],
   "source": [
    "def exact_c(t):\n",
    "    return -3 + 2 / (1 + exp(-2 * t))\n",
    "\n",
    "\n",
    "def problem_c(t, y):\n",
    "    return -(y + 1) * (y + 3)\n",
    "\n",
    "\n",
    "print(\"\\nResultados del problema (c):\")\n",
    "ys_c, ts_c = ODE_euler(a=0.0, b=2.0, f=problem_c, y_t0=-2.0, h=0.2)\n",
    "for t, y in zip(ts_c, ys_c):\n",
    "    exact_y = exact_c(t)\n",
    "    error_real = abs(exact_y - y)\n",
    "    print(f\"t = {t:.2f}, y = {y:.4f}, exacta = {exact_y:.4f}, error real = {error_real:.4f}\")"
   ]
  },
  {
   "cell_type": "markdown",
   "metadata": {},
   "source": [
    "d. $y(t) = t^2 + \\frac{1}{3} e^{-5t}$"
   ]
  },
  {
   "cell_type": "code",
   "execution_count": 17,
   "metadata": {},
   "outputs": [
    {
     "name": "stdout",
     "output_type": "stream",
     "text": [
      "\n",
      "Resultados del problema (d):\n",
      "t = 0.00, y = 0.3333, exacta = 0.3333, error real = 0.0000\n",
      "t = 0.10, y = 0.1667, exacta = 0.2122, error real = 0.0455\n",
      "t = 0.20, y = 0.1083, exacta = 0.1626, error real = 0.0543\n",
      "t = 0.30, y = 0.1142, exacta = 0.1644, error real = 0.0502\n",
      "t = 0.40, y = 0.1621, exacta = 0.2051, error real = 0.0430\n",
      "t = 0.50, y = 0.2410, exacta = 0.2774, error real = 0.0363\n",
      "t = 0.60, y = 0.3455, exacta = 0.3766, error real = 0.0311\n",
      "t = 0.70, y = 0.4728, exacta = 0.5001, error real = 0.0273\n",
      "t = 0.80, y = 0.6214, exacta = 0.6461, error real = 0.0247\n",
      "t = 0.90, y = 0.7907, exacta = 0.8137, error real = 0.0230\n",
      "t = 1.00, y = 0.9803, exacta = 1.0022, error real = 0.0219\n"
     ]
    }
   ],
   "source": [
    "def exact_d(t):\n",
    "    return t**2 + (1 / 3) * exp(-5 * t)\n",
    "\n",
    "\n",
    "def problem_d(t, y):\n",
    "    return -5 * y + 5 * t**2 + 2 * t\n",
    "\n",
    "\n",
    "print(\"\\nResultados del problema (d):\")\n",
    "ys_d, ts_d = ODE_euler(a=0.0, b=1.0, f=problem_d, y_t0=1/3, h=0.1)\n",
    "for t, y in zip(ts_d, ys_d):\n",
    "    exact_y = exact_d(t)\n",
    "    error_real = abs(exact_y - y)\n",
    "    print(f\"t = {t:.2f}, y = {y:.4f}, exacta = {exact_y:.4f}, error real = {error_real:.4f}\")"
   ]
  },
  {
   "cell_type": "markdown",
   "metadata": {},
   "source": [
    "## <span style=\"color:orange\"> *5. Utilice los resultados del ejercicio 3 y la interpolación lineal para aproximar los siguientes valores de 𝑦(𝑡). Compare las aproximaciones asignadas para los valores reales obtenidos mediante las funciones determinadas en el ejercicio 4.* </span>\n",
    "\n",
    "a. $y(0.25)$ y $y(0.93)$\n",
    "\n"
   ]
  },
  {
   "cell_type": "code",
   "execution_count": 19,
   "metadata": {},
   "outputs": [],
   "source": [
    "import numpy as np\n",
    "\n",
    "def ODE_euler(a, b, f, y_t0, h):\n",
    "    n_steps = int((b - a) / h) + 1\n",
    "    t_values = np.linspace(a, b, n_steps)\n",
    "    y_values = np.zeros(n_steps)\n",
    "    y_values[0] = y_t0\n",
    "\n",
    "    for i in range(1, n_steps):\n",
    "        y_values[i] = y_values[i - 1] + h * f(t_values[i - 1], y_values[i - 1])\n",
    "\n",
    "    return y_values, t_values\n",
    "\n",
    "\n",
    "def linear_interpolation(t_values, y_values, t):\n",
    "    for i in range(1, len(t_values)):\n",
    "        if t_values[i-1] <= t <= t_values[i]:\n",
    "            return y_values[i-1] + (y_values[i] - y_values[i-1]) * (t - t_values[i-1]) / (t_values[i] - t_values[i-1])\n",
    "    return None  "
   ]
  },
  {
   "cell_type": "code",
   "execution_count": 20,
   "metadata": {},
   "outputs": [
    {
     "name": "stdout",
     "output_type": "stream",
     "text": [
      "Interpolación y comparación para el problema (a):\n",
      "t = 1.25, y (interpolada) = 1.0150, exacta = 1.0220, error real = 0.0070\n",
      "t = 1.93, y (interpolada) = 1.1539, exacta = 1.1644, error real = 0.0105\n"
     ]
    }
   ],
   "source": [
    "def exact_a(t):\n",
    "    return t / (1 + np.log(t))\n",
    "\n",
    "def problem_a(t, y):\n",
    "    return y / t - (y / t) ** 2\n",
    "\n",
    "ys_a, ts_a = ODE_euler(a=1.0, b=2.0, f=problem_a, y_t0=1.0, h=0.1)\n",
    "print(\"Interpolación y comparación para el problema (a):\")\n",
    "for t in [1.25, 1.93]:\n",
    "    approx_y = linear_interpolation(ts_a, ys_a, t)\n",
    "    if approx_y is not None:\n",
    "        exact_y = exact_a(t)\n",
    "        error_real = abs(exact_y - approx_y)\n",
    "        print(f\"t = {t:.2f}, y (interpolada) = {approx_y:.4f}, exacta = {exact_y:.4f}, error real = {error_real:.4f}\")\n",
    "    else:\n",
    "        print(f\"t = {t:.2f} está fuera del rango de interpolación.\")"
   ]
  },
  {
   "cell_type": "markdown",
   "metadata": {},
   "source": [
    "b. $y(1.25)$ y $y(1.93)$\n",
    "\n"
   ]
  },
  {
   "cell_type": "code",
   "execution_count": 21,
   "metadata": {},
   "outputs": [
    {
     "name": "stdout",
     "output_type": "stream",
     "text": [
      "\n",
      "Interpolación y comparación para el problema (b):\n",
      "t = 2.10, y (interpolada) = 1.6608, exacta = 1.9250, error real = 0.2642\n",
      "t = 2.75, y (interpolada) = 3.5262, exacta = 4.3942, error real = 0.8680\n"
     ]
    }
   ],
   "source": [
    "def exact_b(t):\n",
    "    return t * np.tan(np.log(t))\n",
    "\n",
    "\n",
    "def problem_b(t, y):\n",
    "    return 1 + y / t + (y / t) ** 2\n",
    "\n",
    "\n",
    "ys_b, ts_b = ODE_euler(a=1.0, b=3.0, f=problem_b, y_t0=0.0, h=0.2)\n",
    "print(\"\\nInterpolación y comparación para el problema (b):\")\n",
    "for t in [2.10, 2.75]:\n",
    "    approx_y = linear_interpolation(ts_b, ys_b, t)\n",
    "    if approx_y is not None:\n",
    "        exact_y = exact_b(t)\n",
    "        error_real = abs(exact_y - approx_y)\n",
    "        print(f\"t = {t:.2f}, y (interpolada) = {approx_y:.4f}, exacta = {exact_y:.4f}, error real = {error_real:.4f}\")\n",
    "    else:\n",
    "        print(f\"t = {t:.2f} está fuera del rango de interpolación.\")"
   ]
  },
  {
   "cell_type": "markdown",
   "metadata": {},
   "source": [
    "c. $y(2.10)$ y $y(2.75)$\n",
    "\n"
   ]
  },
  {
   "cell_type": "code",
   "execution_count": 22,
   "metadata": {},
   "outputs": [
    {
     "name": "stdout",
     "output_type": "stream",
     "text": [
      "\n",
      "Interpolación y comparación para el problema (c):\n",
      "t = 2.10 está fuera del rango de interpolación.\n",
      "t = 2.75 está fuera del rango de interpolación.\n"
     ]
    }
   ],
   "source": [
    "def exact_c(t):\n",
    "    return -3 + 2 / (1 + np.exp(-2 * t))\n",
    "\n",
    "\n",
    "def problem_c(t, y):\n",
    "    return -(y + 1) * (y + 3)\n",
    "\n",
    "\n",
    "ys_c, ts_c = ODE_euler(a=0.0, b=2.0, f=problem_c, y_t0=-2.0, h=0.2)\n",
    "print(\"\\nInterpolación y comparación para el problema (c):\")\n",
    "for t in [2.10, 2.75]:\n",
    "    approx_y = linear_interpolation(ts_c, ys_c, t)\n",
    "    if approx_y is not None:\n",
    "        exact_y = exact_c(t)\n",
    "        error_real = abs(exact_y - approx_y)\n",
    "        print(f\"t = {t:.2f}, y (interpolada) = {approx_y:.4f}, exacta = {exact_y:.4f}, error real = {error_real:.4f}\")\n",
    "    else:\n",
    "        print(f\"t = {t:.2f} está fuera del rango de interpolación.\")"
   ]
  },
  {
   "cell_type": "markdown",
   "metadata": {},
   "source": [
    "d. $y(0.54)$ y $y(0.94)$"
   ]
  },
  {
   "cell_type": "code",
   "execution_count": 23,
   "metadata": {},
   "outputs": [
    {
     "name": "stdout",
     "output_type": "stream",
     "text": [
      "\n",
      "Interpolación y comparación para el problema (d):\n",
      "t = 0.54, y (interpolada) = 0.2828, exacta = 0.3140, error real = 0.0312\n",
      "t = 0.94, y (interpolada) = 0.8666, exacta = 0.8866, error real = 0.0201\n"
     ]
    }
   ],
   "source": [
    "def exact_d(t):\n",
    "    return t**2 + (1 / 3) * np.exp(-5 * t)\n",
    "\n",
    "\n",
    "def problem_d(t, y):\n",
    "    return -5 * y + 5 * t**2 + 2 * t\n",
    "\n",
    "\n",
    "ys_d, ts_d = ODE_euler(a=0.0, b=1.0, f=problem_d, y_t0=1/3, h=0.1)\n",
    "print(\"\\nInterpolación y comparación para el problema (d):\")\n",
    "for t in [0.54, 0.94]:\n",
    "    approx_y = linear_interpolation(ts_d, ys_d, t)\n",
    "    if approx_y is not None:\n",
    "        exact_y = exact_d(t)\n",
    "        error_real = abs(exact_y - approx_y)\n",
    "        print(f\"t = {t:.2f}, y (interpolada) = {approx_y:.4f}, exacta = {exact_y:.4f}, error real = {error_real:.4f}\")\n",
    "    else:\n",
    "        print(f\"t = {t:.2f} está fuera del rango de interpolación.\")"
   ]
  }
 ],
 "metadata": {
  "kernelspec": {
   "display_name": "Python 3",
   "language": "python",
   "name": "python3"
  },
  "language_info": {
   "codemirror_mode": {
    "name": "ipython",
    "version": 3
   },
   "file_extension": ".py",
   "mimetype": "text/x-python",
   "name": "python",
   "nbconvert_exporter": "python",
   "pygments_lexer": "ipython3",
   "version": "3.13.1"
  }
 },
 "nbformat": 4,
 "nbformat_minor": 2
}
