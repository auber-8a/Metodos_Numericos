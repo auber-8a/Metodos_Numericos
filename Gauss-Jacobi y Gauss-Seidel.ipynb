{
 "cells": [
  {
   "cell_type": "markdown",
   "metadata": {},
   "source": [
    "##   Escuela Politécnica Nacional   \n",
    "## Ingeniería de Ciencias de la Computación   \n",
    "##  Métodos Numéricos   \n",
    "### Gauss-Jacobi y Gauss-Seidel\n",
    "### Aubertin Ochoa          \n",
    "### 05/02/2025\n",
    "\n",
    "[Link GITHUB]() "
   ]
  },
  {
   "cell_type": "markdown",
   "metadata": {},
   "source": [
    "# <span style=\"color:orange\"> *Ejercicios Propuestos* </span>\n",
    "## <span style=\"color:orange\"> *1. Encuentre las primeras dos iteraciones del método de Jacobi para los siguientes sistemas lineales, partiendo de $ \\mathbf{x}^{(0)} = 0 $.* </span>\n",
    "\n",
    "## **a.**\n",
    "$$\n",
    "\\begin{aligned}\n",
    "3x_1 - x_2 + x_3 &= 1, \\\\\n",
    "3x_1 + 6x_2 + 2x_3 &= 0, \\\\\n",
    "3x_1 + 3x_2 + 7x_3 &= 4.\n",
    "\\end{aligned}\n",
    "$$\n",
    "\n",
    "## **b.**\n",
    "$$\n",
    "\\begin{aligned}\n",
    "10x_1 - x_2 &= 9, \\\\\n",
    "-x_1 + 10x_2 - 2x_3 &= 7, \\\\\n",
    "-2x_2 + 10x_3 &= 6.\n",
    "\\end{aligned}\n",
    "$$\n",
    "\n",
    "## **c.**\n",
    "$$\n",
    "\\begin{aligned}\n",
    "10x_1 + 5x_2 &= 6, \\\\\n",
    "5x_1 + 10x_2 - 4x_3 &= 25, \\\\\n",
    "-4x_2 + 8x_3 - x_4 &= -11, \\\\\n",
    "-x_3 + 5x_4 &= -11.\n",
    "\\end{aligned}\n",
    "$$\n",
    "\n",
    "## **d.**\n",
    "$$\n",
    "\\begin{aligned}\n",
    "4x_1 + x_2 + x_3 + x_5 &= 6, \\\\\n",
    "-x_1 - 3x_2 + x_3 + x_4 &= 6, \\\\\n",
    "2x_1 + x_2 + 5x_3 - x_4 - x_5 &= 6, \\\\\n",
    "-x_1 - x_2 - x_3 + 4x_4 &= 6, \\\\\n",
    "2x_2 - x_3 + x_4 + 4x_5 &= 6.\n",
    "\\end{aligned}\n",
    "$$\n"
   ]
  },
  {
   "cell_type": "markdown",
   "metadata": {},
   "source": [
    "## <span style=\"color:orange\"> *2. Repita el ejercicio 1 usando el método de Gauss-Siedel.* </span>\n",
    "\n"
   ]
  },
  {
   "cell_type": "markdown",
   "metadata": {},
   "source": [
    "## <span style=\"color:orange\"> *3. Utilice el método de Jacobi para resolver los sistemas lineales en el ejercicio 1, con TOL = 10-3.* </span>\n"
   ]
  },
  {
   "cell_type": "markdown",
   "metadata": {},
   "source": [
    "## <span style=\"color:orange\"> *4. Utilice el método de Gauss-Siedel para resolver los sistemas lineales en el ejercicio 1, con TOL = 10-3.* </span>\n"
   ]
  },
  {
   "cell_type": "markdown",
   "metadata": {},
   "source": [
    "## <span style=\"color:orange\"> *5. El sistema lineal tiene la solución $(1, 2, -1)^t$.* </span>\n",
    "\n",
    "$$\n",
    "\\begin{aligned}\n",
    "2x_1 - x_2 + x_3 &= -1, \\\\\n",
    "2x_1 + 2x_2 + 2x_3 &= 4, \\\\\n",
    "-x_1 - x_2 + 2x_3 &= -5.\n",
    "\\end{aligned}\n",
    "$$\n",
    "\n",
    "\n",
    "## <span style=\"color:orange\"> **a)** Muestre que el método de Jacobi con $ \\mathbf{x}^{(0)} = 0 $ falla al proporcionar una buena aproximación después de 25 iteraciones.* </span>\n",
    "\n",
    "## <span style=\"color:orange\"> **b)** Utilice el método de Gauss-Seidel con $ \\mathbf{x}^{(0)} = 0 $ para aproximar la solución para el sistema lineal dentro de $ 10^{-5} $. </span>   \n"
   ]
  },
  {
   "cell_type": "markdown",
   "metadata": {},
   "source": [
    "## <span style=\"color:orange\">**6. El sistema lineal Tiene la solución $ (0.9, -0.8, 0.7)^t $.**</span>\n",
    "$$\n",
    "\\begin{aligned}\n",
    "x_1 & - x_3 = 0.2, \\\\\n",
    "-\\frac{1}{2}x_1 + x_2 - \\frac{1}{4}x_3 &= -1.425, \\\\\n",
    "x_1 - \\frac{1}{2}x_2 + x_3 &= 2.\n",
    "\\end{aligned}\n",
    "$$\n",
    "\n",
    "\n",
    "\n",
    "## <span style=\"color:orange\"> ***a)** *¿La matriz de coeficientes tiene diagonal estrictamente dominante?* </span>\n",
    "\n",
    "$$\n",
    "A =\n",
    "\\begin{bmatrix}\n",
    "1 & 0 & -1 \\\\\n",
    "-\\frac{1}{2} & 1 & -\\frac{1}{4} \\\\\n",
    "1 & -\\frac{1}{2} & 1\n",
    "\\end{bmatrix}\n",
    "$$\n",
    "\n",
    "\n",
    "     \n",
    "## <span style=\"color:orange\"> *b) Utilice el método iterativo de Gauss-Siedel para aproximar la solución para el sistema lineal con una tolerancia de 1022 y un máximo de 300 iteraciones.* </span>          \n",
    "## <span style=\"color:orange\"> *c) ¿Qué pasa en la parte  b) cuando el sistema cambia por el siguiente?* </span>        \n",
    "$$\n",
    "\\begin{aligned}\n",
    "x_1 & - 2x_3 = 0.2, \\\\\n",
    "-\\frac{1}{2}x_1 + x_2 - \\frac{1}{4}x_3 &= -1.425, \\\\\n",
    "x_1 - \\frac{1}{2}x_2 + x_3 &= 2.\n",
    "\\end{aligned}\n",
    "$$\n"
   ]
  },
  {
   "cell_type": "markdown",
   "metadata": {},
   "source": [
    "## <span style=\"color:orange\"> *7. Repita el ejercicio 11 usando el método de Jacobi.* </span>\n",
    "\n"
   ]
  },
  {
   "cell_type": "markdown",
   "metadata": {},
   "source": [
    "\n",
    "\n",
    "## <span style=\"color:orange\"> *8. Un cable coaxial está formado por un conductor interno de 0.1 pulgadas cuadradas y un conductor externo de 0.5 pulgadas cuadradas. El potencial en un punto en la sección transversal del cable se describe mediante la ecuación de Laplace. Suponga que el conductor interno se mantiene en **0 volts** y el conductor externo se mantiene en **110 volts**. Aproximar el potencial entre los dos conductores requiere resolver el siguiente sistema lineal:* </span>\n",
    "\n",
    "\n",
    "$$\n",
    "\\begin{bmatrix}\n",
    "4 & -1 & 0 & 0 & 0 & -1 & 0 & 0 & 0 & 0 & 0 & 0 \\\\\n",
    "-1 & 4 & -1 & 0 & 0 & 0 & 0 & 0 & 0 & 0 & 0 & 0 \\\\\n",
    "0 & -1 & 4 & -1 & 0 & 0 & 0 & 0 & 0 & 0 & 0 & 0 \\\\\n",
    "0 & 0 & -1 & 4 & 0 & 0 & 0 & -1 & 0 & 0 & 0 & 0 \\\\\n",
    "0 & 0 & 0 & 0 & 4 & -1 & 0 & 0 & -1 & 0 & 0 & 0 \\\\\n",
    "-1 & 0 & 0 & 0 & -1 & 4 & -1 & 0 & 0 & -1 & 0 & 0 \\\\\n",
    "0 & 0 & 0 & 0 & 0 & -1 & 4 & -1 & 0 & 0 & 0 & 0 \\\\\n",
    "0 & 0 & 0 & -1 & 0 & 0 & -1 & 4 & 0 & 0 & -1 & 0 \\\\\n",
    "0 & 0 & 0 & 0 & -1 & 0 & 0 & 0 & 4 & -1 & 0 & 0 \\\\\n",
    "0 & 0 & 0 & 0 & 0 & -1 & 0 & 0 & -1 & 4 & -1 & 0 \\\\\n",
    "0 & 0 & 0 & 0 & 0 & 0 & 0 & -1 & 0 & -1 & 4 & -1 \\\\\n",
    "0 & 0 & 0 & 0 & 0 & 0 & 0 & 0 & 0 & 0 & -1 & 4\n",
    "\\end{bmatrix}\n",
    "\\begin{bmatrix}\n",
    "w_1 \\\\ w_2 \\\\ w_3 \\\\ w_4 \\\\ w_5 \\\\ w_6 \\\\ w_7 \\\\ w_8 \\\\ w_9 \\\\ w_{10} \\\\ w_{11} \\\\ w_{12}\n",
    "\\end{bmatrix}\n",
    "=\n",
    "\\begin{bmatrix}\n",
    "220 \\\\ 110 \\\\ 110 \\\\ 220 \\\\ 110 \\\\ 110 \\\\ 110 \\\\ 110 \\\\ 110 \\\\ 110 \\\\ 110 \\\\ 220\n",
    "\\end{bmatrix}\n",
    "$$\n",
    "\n",
    "\n",
    "## <span style=\"color:orange\"> *a. ¿La matriz es estrictamente diagonalmente dominante?* </span>\n",
    "    \n",
    "## <span style=\"color:orange\"> *b. Resuelva el sistema lineal usando el método de Jacobi con $ x^{(0)} = 0 $ y $ TOL = 10^{-2} $.* </span>\n",
    "   \n",
    "## <span style=\"color:orange\"> *c. Repita la parte b) mediante el método de Gauss-Seidel.* </span>"
   ]
  }
 ],
 "metadata": {
  "kernelspec": {
   "display_name": "Python 3",
   "language": "python",
   "name": "python3"
  },
  "language_info": {
   "codemirror_mode": {
    "name": "ipython",
    "version": 3
   },
   "file_extension": ".py",
   "mimetype": "text/x-python",
   "name": "python",
   "nbconvert_exporter": "python",
   "pygments_lexer": "ipython3",
   "version": "3.13.1"
  }
 },
 "nbformat": 4,
 "nbformat_minor": 2
}
