{
 "cells": [
  {
   "cell_type": "markdown",
   "metadata": {},
   "source": [
    "# ESCUELA POLITÉCNICA NACIONAL\n",
    "## Ingeniería de Ciencias de la Computación   \n",
    "##  Métodos Numéricos   \n",
    "### Corrección del Examen\n",
    "### Aubertin Ochoa      \n",
    "### 04/12/2024\n",
    "[Link GITHUB](https://github.com/auber-8a/Metodos_Numericos/blob/41a12ec9bd9f9ce29145d369663e32d7a71f1ccc/Examen.ipynb) "
   ]
  },
  {
   "cell_type": "markdown",
   "metadata": {},
   "source": [
    "<span style=\"color:orange\">*1. Suponga que dos puntos $(x_0,y_0)$ y $(x_1,y_1)$ se encuentran en línea recta con y1≠y0.* \n",
    "\n",
    "<span style=\"color:orange\">*Existen dos fórmulas para encontrar la intersección $x$ de la línea:*\n",
    "\n",
    "<span style=\"color:orange\">Método A: $$x = \\frac{x_0 * y_1  −  x_1 × y_0}{y_1  -  y_0}$$    \n",
    "     \n",
    "<span style=\"color:orange\">y     \n",
    "     \n",
    "<span style=\"color:orange\">Método B: $$x = x_0  −  \\frac{(x_1 − x_0) * y_0 }{y_1  −  y_0}$$   \n",
    "\n",
    "<span style=\"color:orange\">*Usando los datos $(x_0, y_0)$ = $(1.31, 3.24)$  y  $(x_1, y_1)$ = $(1.93,4.76)$, determine el valor real de la intersección $x$ (asumiendo redondeo a 6 cifras significativas):*        \n",
    "$x$ = -0.0115789    \n",
    "     \n",
    "Método A: $$x = \\frac{(1.31 * 4.76)  −  (1.93 × 3.24)}{4.76  -  3.24} = -0.0115789$$\n",
    "\n",
    "</span>"
   ]
  },
  {
   "cell_type": "markdown",
   "metadata": {},
   "source": [
    "<span style=\"color:orange\">Usando aritmética de computador con redondeo a 3 cifras significativas resuelva para ambos métodos.</span>\n",
    "\n",
    "<span style=\"color:orange\">Usando el método A:     \n",
    "$x$ = -0.00658\n",
    "\n",
    "Método A: $$x = \\frac{(1.31 * 4.76)  −  (1.93 × 3.24)}{4.76  -  3.24} = -0.00658$$"
   ]
  },
  {
   "cell_type": "markdown",
   "metadata": {},
   "source": [
    "<span style=\"color:orange\">El error relativo (redondee al final del cálculo a 3 cifras significativas) del método A:     \n",
    "\n",
    "$\\epsilon$ =   \n",
    "    \n",
    "$$Error_{Relativo} = |\\frac{-0.0115789 - (-0.00658)}{-0.0115789}| = 0.432$$     "
   ]
  },
  {
   "cell_type": "markdown",
   "metadata": {},
   "source": [
    "<span style=\"color:orange\">Usando el método B:    \n",
    "$x$ = -0,01\n",
    "     \n",
    "Método B: $$x = 1.31  −  \\frac{(1.93 − 1.31) * 3.24}{4.76  −  3.24} = -0,01$$   "
   ]
  },
  {
   "cell_type": "markdown",
   "metadata": {},
   "source": [
    "<span style=\"color:orange\">El error relativo (redondee al final del cálculo a 3 cifras significativas) del método B:    \n",
    "$\\epsilon$ =\n",
    "\n",
    "$$Error_{Relativo} = |\\frac{-0.0115789 - (-0.01)}{-0.0115789}| = 0.136$$   \n",
    "\n",
    "<span style=\"color:orange\">¿Cuál método es mejor?     \n",
    "\n",
    "Tomamos en cuenta el que realiza menor número de multiplicaciones. Por lo tanto el mejor método es:     \n",
    "**Método B**"
   ]
  },
  {
   "cell_type": "markdown",
   "metadata": {},
   "source": [
    "---"
   ]
  },
  {
   "cell_type": "markdown",
   "metadata": {},
   "source": [
    "<span style=\"color:orange\">2. Los primeros tres términos diferentes a cero de la serie de Maclaurin para la función arcotangente son:</span>\n",
    "\n",
    "$x - \\frac{1}{3} ∗x^3 + \\frac{1}{5}∗x^5$ \n",
    "\n",
    "<span style=\"color:orange\">Calcule el error relativo en las siguientes aproximaciones de $π$ mediante el polinomio (en lugar del arcotangente).\n",
    "Asuma que $π = 3.14159$\n",
    "\n",
    "$4(arctan(1/2) + arctan(1/3))$    \n",
    "\n",
    "<span style=\"color:orange\">Redondee a 4 cifras significativas únicamente en la respuesta final de sus cálculos.\n",
    "\n",
    "$arctan(1/2)$ = $(\\frac{1}{2}) - \\frac{1}{3} ∗(\\frac{1}{2})^3 + \\frac{1}{5}∗(\\frac{1}{2})^5$ = $0.4645833333$\n",
    "\n",
    "$arctan(1/3)$ = $(\\frac{1}{3}) - \\frac{1}{3} ∗(\\frac{1}{3})^3 + \\frac{1}{5}∗(\\frac{1}{3})^5$ = $0.3218106996$    \n",
    "\n",
    "$4(0.4645833333 + 0.3218106996)$ = $3.145576132$    \n",
    "       \n",
    "$$Error_{Relativo} = |\\frac{3.14159 - 3.145576132}{3.14159}| = 0.001269$$     \n",
    "     \n",
    "**$\\epsilon$ = 0.001269**\n",
    "      "
   ]
  },
  {
   "cell_type": "markdown",
   "metadata": {},
   "source": [
    "<span style=\"color:orange\">¿En qué orden de magnitud está este error? Es decir, \n",
    "\n",
    "**ϵ < $10^n$, n= -2**"
   ]
  },
  {
   "cell_type": "markdown",
   "metadata": {},
   "source": [
    "$16∗arctan(1/5) − 4∗arctan(1/239)$  \n",
    "\n",
    "$arctan(1/5)$ = $(\\frac{1}{5}) - \\frac{1}{3} ∗(\\frac{1}{5})^3 + \\frac{1}{5}∗(\\frac{1}{5})^5$ = $0.1973973333$\n",
    "\n",
    "$arctan(1/239)$ = $(\\frac{1}{239}) - \\frac{1}{3} ∗(\\frac{1}{239})^3 + \\frac{1}{5}∗(\\frac{1}{239})^5$ = $0.004184076002$    \n",
    "\n",
    "$16∗0.1973973333 − 4∗0.004184076002$ = $3.141621029$    \n",
    "       \n",
    "$$Error_{Relativo} = |\\frac{3.14159 - 3.141621029}{3.14159}| = 0.000009877$$  \n",
    "\n",
    "**$\\epsilon$ = 0.000009877**"
   ]
  },
  {
   "cell_type": "markdown",
   "metadata": {},
   "source": [
    "<span style=\"color:orange\">¿En qué orden de magnitud está este error? Es decir, \n",
    "\n",
    "ϵ < $10^n$, n = -5"
   ]
  },
  {
   "cell_type": "markdown",
   "metadata": {},
   "source": [
    "---"
   ]
  },
  {
   "cell_type": "markdown",
   "metadata": {},
   "source": [
    "<span style=\"color:orange\">3. La función $sin(x)$ tiene infinitas soluciones \n",
    "      \n",
    "$\\{..., -2\\pi, -\\pi, 0, \\pi, 2\\pi, ...\\}$.     \n",
    "      \n",
    "<span style=\"color:orange\">¿A cuál solución converge el método de la Bisección en los siguientes intervalos?"
   ]
  },
  {
   "cell_type": "markdown",
   "metadata": {},
   "source": [
    "<span style=\"color:orange\">¿A cuál solución converge el método de la Bisección en los siguientes intervalos?\n",
    "\n",
    "$a = −2.5, b = −1$"
   ]
  },
  {
   "cell_type": "code",
   "execution_count": 2,
   "metadata": {},
   "outputs": [],
   "source": [
    "import math\n",
    "\n",
    "def f_sin(x):\n",
    "    return math.sin(x)\n",
    "\n",
    "# Método de bisección\n",
    "def metodoBiseccion(f, a, b, tol=1e-6, max_iter=100):\n",
    "    if f(a) * f(b) > 0:\n",
    "        return \"Error: sin cambio de signo en el intervalo\"\n",
    "    \n",
    "    for _ in range(max_iter):\n",
    "        c = (a + b) / 2\n",
    "        if abs(f(c)) < tol or (b - a) / 2 < tol:\n",
    "            return c  # Se encontró la raíz con tolerancia suficiente\n",
    "        if f(a) * f(c) < 0:\n",
    "            b = c\n",
    "        else:\n",
    "            a = c\n",
    "    \n",
    "    return \"No converge: máx. iteraciones alcanzadas\""
   ]
  },
  {
   "cell_type": "code",
   "execution_count": null,
   "metadata": {},
   "outputs": [
    {
     "name": "stdout",
     "output_type": "stream",
     "text": [
      "Intervalo [-2.5, -1]: Error: sin cambio de signo en el intervalo\n"
     ]
    }
   ],
   "source": [
    "resultado_1 = metodoBiseccion(f_sin, -2.5, -1)\n",
    "print(f\"Intervalo [-2.5, -1]: {resultado_1}\")"
   ]
  },
  {
   "cell_type": "markdown",
   "metadata": {},
   "source": [
    "$a = −5, b = 4$\n"
   ]
  },
  {
   "cell_type": "code",
   "execution_count": null,
   "metadata": {},
   "outputs": [
    {
     "name": "stdout",
     "output_type": "stream",
     "text": [
      "Intervalo [-5, 4]: -3.141591787338257\n"
     ]
    }
   ],
   "source": [
    "resultado_2 = metodoBiseccion(f_sin, -5, 4)\n",
    "print(f\"Intervalo [-5, 4]: {resultado_2}\")"
   ]
  },
  {
   "cell_type": "markdown",
   "metadata": {},
   "source": [
    "Converge a −π."
   ]
  },
  {
   "cell_type": "markdown",
   "metadata": {},
   "source": [
    " \n",
    "$a = −3.5, b = 3$\n",
    "\n"
   ]
  },
  {
   "cell_type": "code",
   "execution_count": null,
   "metadata": {},
   "outputs": [
    {
     "name": "stdout",
     "output_type": "stream",
     "text": [
      "Intervalo [-3.5, 3]: Error: sin cambio de signo en el intervalo\n"
     ]
    }
   ],
   "source": [
    "resultado_3 = metodoBiseccion(f_sin, -3.5, 3)\n",
    "print(f\"Intervalo [-3.5, 3]: {resultado_3}\")"
   ]
  },
  {
   "cell_type": "markdown",
   "metadata": {},
   "source": [
    "$a = −4, b = 5$\n",
    "\n"
   ]
  },
  {
   "cell_type": "code",
   "execution_count": null,
   "metadata": {},
   "outputs": [
    {
     "name": "stdout",
     "output_type": "stream",
     "text": [
      "Intervalo [-4, 5]: 3.141591787338257\n"
     ]
    }
   ],
   "source": [
    "resultado_4 = metodoBiseccion(f_sin, -4, 5)\n",
    "print(f\"Intervalo [-4, 5]: {resultado_4}\")"
   ]
  },
  {
   "cell_type": "markdown",
   "metadata": {},
   "source": [
    "Converge a π."
   ]
  },
  {
   "cell_type": "markdown",
   "metadata": {},
   "source": [
    "$a = −1, b = 2$\n"
   ]
  },
  {
   "cell_type": "code",
   "execution_count": null,
   "metadata": {},
   "outputs": [
    {
     "name": "stdout",
     "output_type": "stream",
     "text": [
      "Intervalo [-1, 2]: -9.5367431640625e-07\n"
     ]
    }
   ],
   "source": [
    "resultado_5 = metodoBiseccion(f_sin, -1, 2)\n",
    "print(f\"Intervalo [-1, 2]: {resultado_5}\")"
   ]
  },
  {
   "cell_type": "markdown",
   "metadata": {},
   "source": [
    "Converge a 0."
   ]
  },
  {
   "cell_type": "markdown",
   "metadata": {},
   "source": [
    "\n",
    "$a = 3, b = 5$"
   ]
  },
  {
   "cell_type": "code",
   "execution_count": null,
   "metadata": {},
   "outputs": [
    {
     "name": "stdout",
     "output_type": "stream",
     "text": [
      "Intervalo [3, 5]: 3.141592025756836\n"
     ]
    }
   ],
   "source": [
    "resultado_6 = metodoBiseccion(f_sin, 3, 5)\n",
    "print(f\"Intervalo [3, 5]: {resultado_6}\")"
   ]
  },
  {
   "cell_type": "markdown",
   "metadata": {},
   "source": [
    "Converge a π."
   ]
  },
  {
   "cell_type": "code",
   "execution_count": 7,
   "metadata": {},
   "outputs": [
    {
     "name": "stdout",
     "output_type": "stream",
     "text": [
      "Intervalo -5, 4: -3.141591787338257\n",
      "Intervalo -1, 2: -9.5367431640625e-07\n",
      "Intervalo 3, 5: 3.141592025756836\n",
      "Intervalo -3.5, 3: Error: sin cambio de signo en el intervalo\n",
      "Intervalo -4, 5: 3.141591787338257\n",
      "Intervalo -2.5, -1: Error: sin cambio de signo en el intervalo\n"
     ]
    }
   ],
   "source": [
    "import math\n",
    "\n",
    "def f_sin(x):\n",
    "    return math.sin(x)\n",
    "\n",
    "def metodoBiseccion(f, a, b, tol=1e-6, max_iter=100):\n",
    "    if f(a) * f(b) > 0:\n",
    "        return \"Error: sin cambio de signo en el intervalo\"\n",
    "    \n",
    "    for _ in range(max_iter):\n",
    "        c = (a + b) / 2\n",
    "        if abs(f(c)) < tol or (b - a) / 2 < tol:\n",
    "            return c  \n",
    "        if f(a) * f(c) < 0:\n",
    "            b = c\n",
    "        else:\n",
    "            a = c\n",
    "    \n",
    "    return \"No converge: máx. iteraciones alcanzadas\"\n",
    "\n",
    "intervalos = [\n",
    "    (-5, 4),\n",
    "    (-1, 2),\n",
    "    (3, 5),\n",
    "    (-3.5, 3),\n",
    "    (-4, 5),\n",
    "    (-2.5, -1)\n",
    "]\n",
    "\n",
    "# Aplicar el método de bisección a cada intervalo\n",
    "ResultadoBisec = {f\"Intervalo {a}, {b}\": metodoBiseccion(f_sin, a, b) for a, b in intervalos}\n",
    "\n",
    "# Mostrar resultados\n",
    "for intervalo, resultado in ResultadoBisec.items():\n",
    "    print(f\"{intervalo}: {resultado}\")\n"
   ]
  },
  {
   "cell_type": "markdown",
   "metadata": {},
   "source": [
    "---"
   ]
  },
  {
   "cell_type": "markdown",
   "metadata": {},
   "source": [
    "<span style=\"color:orange\">4. El método de Newton para encontrar raíces se basa en la siguiente ecuación:\n",
    "\n",
    "$$ x_{n+1} = x_n - \\frac{f(x_n)}{f'(x_n)} $$    \n",
    "\n",
    "<span style=\"color:orange\">Cuál es la raíz de la ecuación:\n",
    "\n",
    "$$x^3 + x = 1 + 3x^2$$\n",
    "\n",
    "\n",
    "$x_{sol}$ = 2,769"
   ]
  },
  {
   "cell_type": "markdown",
   "metadata": {},
   "source": [
    "<span style=\"color:orange\">Qué sucede cuando:\n",
    "\n",
    "$x_{0}$ = 3\n"
   ]
  },
  {
   "cell_type": "code",
   "execution_count": 4,
   "metadata": {},
   "outputs": [
    {
     "name": "stdout",
     "output_type": "stream",
     "text": [
      "La raíz de la ecuación es: 2.7692923542386314\n"
     ]
    }
   ],
   "source": [
    "import numpy as np\n",
    "from scipy.optimize import newton\n",
    "\n",
    "# Función f(x)\n",
    "def f(x):\n",
    "    return x**3 + x - 3*x**2 - 1\n",
    "\n",
    "# Derivada de f(x)\n",
    "def df(x):\n",
    "    return 3*x**2 - 6*x + 1\n",
    "\n",
    "# Valor inicial\n",
    "x0 = 3.0\n",
    "\n",
    "\n",
    "try: \n",
    "    raiz = newton(f, x0, fprime=df, tol=1e-10, maxiter=100) \n",
    "    print(\"La raíz de la ecuación es:\", raiz) \n",
    "except RuntimeError as e: \n",
    "    print(\"Error:\", e)"
   ]
  },
  {
   "cell_type": "markdown",
   "metadata": {},
   "source": [
    "El método converge correctamente a la raíz. Encuentra la solución."
   ]
  },
  {
   "cell_type": "markdown",
   "metadata": {},
   "source": [
    "$x_{0}$ = 1"
   ]
  },
  {
   "cell_type": "code",
   "execution_count": 5,
   "metadata": {},
   "outputs": [
    {
     "name": "stdout",
     "output_type": "stream",
     "text": [
      "Error: Failed to converge after 100 iterations, value is 1.0.\n"
     ]
    }
   ],
   "source": [
    "# Valor inicial\n",
    "x0 = 1.0\n",
    "\n",
    "try: \n",
    "    raiz = newton(f, x0, fprime=df, tol=1e-10, maxiter=100) \n",
    "    print(\"La raíz de la ecuación es:\", raiz) \n",
    "except RuntimeError as e: \n",
    "    print(\"Error:\", e)"
   ]
  },
  {
   "cell_type": "markdown",
   "metadata": {},
   "source": [
    "No converge, alcanza el máximo de iteraciones sin acercarse a la solución. "
   ]
  },
  {
   "cell_type": "markdown",
   "metadata": {},
   "source": [
    "$x_{0}$ = 0\n"
   ]
  },
  {
   "cell_type": "code",
   "execution_count": 6,
   "metadata": {},
   "outputs": [
    {
     "name": "stdout",
     "output_type": "stream",
     "text": [
      "Error: Failed to converge after 100 iterations, value is 0.0.\n"
     ]
    }
   ],
   "source": [
    "# Valor inicial\n",
    "x0 = 0.0\n",
    "\n",
    "try: \n",
    "    raiz = newton(f, x0, fprime=df, tol=1e-10, maxiter=100) \n",
    "    print(\"La raíz de la ecuación es:\", raiz) \n",
    "except RuntimeError as e: \n",
    "    print(\"Error:\", e)"
   ]
  },
  {
   "cell_type": "markdown",
   "metadata": {},
   "source": [
    "Tampoco converge, enfrentando el mismo problema de iteraciones fallidas."
   ]
  },
  {
   "cell_type": "markdown",
   "metadata": {},
   "source": [
    "\n",
    "$x_{0}$ = 1 + $\\sqrt{\\frac{6}{3}}$"
   ]
  },
  {
   "cell_type": "code",
   "execution_count": 8,
   "metadata": {},
   "outputs": [
    {
     "name": "stdout",
     "output_type": "stream",
     "text": [
      "La raíz de la ecuación es: 2.7692923542386314\n"
     ]
    }
   ],
   "source": [
    "import math\n",
    "# Valor inicial\n",
    "x0 = 1.0 + math.sqrt(6 / 3)\n",
    "\n",
    "try: \n",
    "    raiz = newton(f, x0, fprime=df, tol=1e-10, maxiter=100) \n",
    "    print(\"La raíz de la ecuación es:\", raiz) \n",
    "except RuntimeError as e: \n",
    "    print(\"Error:\", e)"
   ]
  },
  {
   "cell_type": "markdown",
   "metadata": {},
   "source": [
    "El método da como resultado un valor no real desde la primera iteración. "
   ]
  },
  {
   "cell_type": "markdown",
   "metadata": {},
   "source": [
    "---"
   ]
  },
  {
   "cell_type": "markdown",
   "metadata": {},
   "source": [
    "<span style=\"color:orange\">5. El método de la Secante se basa en la siguiente fórmula: \n",
    " \n",
    "$$ x_{n} = x_{n-1} - \\frac{y_{n-1} (x_{n-1} - x_{n-2})}{y_{n-1} - y_{n-2}} $$      \n",
    "\n",
    "<span style=\"color:orange\">En base a esta fórmula, se ha generado el siguiente código. El código funciona correctamente. Sin embargo, al depurarlo y profundizar en su ejecución, usted ha notado que el código realiza llamadas repetitivas e innecesarias.     \n",
    "\n",
    "<span style=\"color:orange\"> Modifique el código provisto para optimizar el número de llamadas a la función. "
   ]
  },
  {
   "cell_type": "code",
   "execution_count": null,
   "metadata": {},
   "outputs": [],
   "source": [
    "def secant_method(f, x0, x1, tol=1e-6, max_iter=100):    \n",
    "    x_prev = x0\n",
    "    x_curr = x1\n",
    "    iter_count = 0\n",
    "    \n",
    "    while abs(f(x_curr)) > tol and iter_count < max_iter:\n",
    "        # Calculate the next approximation using the secant method formula\n",
    "        x_next = x_curr - f(x_curr) * (x_curr - x_prev) / (f(x_curr) - f(x_prev))\n",
    "\n",
    "        # Update variables for the next iteration\n",
    "        x_prev = x_curr\n",
    "        x_curr = x_next\n",
    "        iter_count += 1\n",
    "\n",
    "    return x_curr, iter_count"
   ]
  },
  {
   "cell_type": "markdown",
   "metadata": {},
   "source": [
    "Método Optimizado."
   ]
  },
  {
   "cell_type": "code",
   "execution_count": null,
   "metadata": {},
   "outputs": [],
   "source": [
    "def MetodoSecanteOptimizado(f, x0, x1, tol=1e-6, max_iter=100):\n",
    "    x_prev = x0\n",
    "    x_curr = x1\n",
    "    f_prev = f(x_prev) \n",
    "    f_curr = f(x_curr)  \n",
    "    iter_count = 0\n",
    "\n",
    "    while abs(f_curr) > tol and iter_count < max_iter:\n",
    "        x_next = x_curr - f_curr * (x_curr - x_prev) / (f_curr - f_prev)\n",
    "\n",
    "        x_prev, f_prev = x_curr, f_curr\n",
    "        x_curr = x_next\n",
    "        f_curr = f(x_curr)  \n",
    "        iter_count += 1\n",
    "\n",
    "    return x_curr, iter_count"
   ]
  },
  {
   "cell_type": "code",
   "execution_count": null,
   "metadata": {},
   "outputs": [
    {
     "name": "stdout",
     "output_type": "stream",
     "text": [
      "Llamada i=1\t x=2.00000\t y=-3.00\n",
      "Llamada i=2\t x=3.00000\t y=2.00\n",
      "Llamada i=3\t x=2.60000\t y=-1.10\n",
      "Llamada i=4\t x=2.74227\t y=-0.20\n",
      "Llamada i=5\t x=2.77296\t y=0.03\n",
      "Llamada i=6\t x=2.76922\t y=-0.00\n",
      "Llamada i=7\t x=2.76929\t y=-0.00\n",
      "Llamada i=8\t x=2.76929\t y=0.00\n"
     ]
    },
    {
     "data": {
      "text/plain": [
       "(2.7692923542484045, 6)"
      ]
     },
     "execution_count": 17,
     "metadata": {},
     "output_type": "execute_result"
    }
   ],
   "source": [
    "i = 0\n",
    "\n",
    "def func(x):\n",
    "    global i\n",
    "    i += 1\n",
    "    y = x**3 - 3 * x**2 + x - 1\n",
    "    print(f\"Llamada i={i}\\t x={x:.5f}\\t y={y:.2f}\")\n",
    "    return y\n",
    "\n",
    "MetodoSecanteOptimizado(func, x0=2, x1=3)"
   ]
  },
  {
   "cell_type": "code",
   "execution_count": 18,
   "metadata": {},
   "outputs": [
    {
     "name": "stdout",
     "output_type": "stream",
     "text": [
      "Llamada i=1\t x=2.00000\t y=1.41\n",
      "Llamada i=2\t x=3.00000\t y=0.64\n",
      "Llamada i=3\t x=3.83460\t y=-0.14\n",
      "Llamada i=4\t x=3.68602\t y=-0.02\n",
      "Llamada i=5\t x=3.66399\t y=0.00\n",
      "Llamada i=6\t x=3.66520\t y=-0.00\n",
      "Llamada i=7\t x=3.66519\t y=-0.00\n"
     ]
    },
    {
     "data": {
      "text/plain": [
       "(3.66519143172732, 5)"
      ]
     },
     "execution_count": 18,
     "metadata": {},
     "output_type": "execute_result"
    }
   ],
   "source": [
    "i = 0\n",
    "import math\n",
    "\n",
    "def func(x):\n",
    "    global i\n",
    "    i += 1\n",
    "    y = math.sin(x) + 0.5\n",
    "    print(f\"Llamada i={i}\\t x={x:.5f}\\t y={y:.2f}\")\n",
    "    return y\n",
    "\n",
    "MetodoSecanteOptimizado(func, x0=2, x1=3)"
   ]
  },
  {
   "cell_type": "markdown",
   "metadata": {},
   "source": [
    "<span style=\"color:orange\">*Luego de optimizar el código y utilizando* $(x_0=2, x_1=3 )$, conteste:\n",
    "\n",
    "\n",
    "¿Cuál es el número mínimo de llamadas a la función para llegar a la raíz en el Ejemplo 1?   \n",
    " \n",
    "$i$ = 8 y la raíz se encontró en 6 iteraciones.\n",
    "      \n",
    "     \n",
    "<span style=\"color:orange\">¿Cuál es el número mínimo de llamadas a la función para llegar a la raíz en el Ejemplo 2?    \n",
    "   \n",
    "$i$ =  7 y la raíz se encontró en 5 iteraciones."
   ]
  },
  {
   "cell_type": "markdown",
   "metadata": {},
   "source": [
    "---"
   ]
  },
  {
   "cell_type": "markdown",
   "metadata": {},
   "source": [
    "<span style=\"color:orange\">*6. Dados los puntos* $(−1,1),(0,5),(1,3)$, se ha obtenido los splines cúbicos correspondientes. Sin embargo, al observar la figura, usted no se siente satisfecho con la pendiente resultante en el punto $(x_1,y_1)$. Y decide intentar una modificación a las ecuaciones, tal que los splines sean tangentes a una pendiente deseada $m$ en el punto $(x_1,y_1)$.        \n",
    "       \n",
    "<span style=\"color:orange\">Recuerde que la expresión de un spline cúbico es la siguiente:\n",
    "$$S_i(x) = a_i + b_i(x−x_i) + c_i(x−x_i)^2 + d_i(x−x_i)^3$$             \n",
    "        \n",
    "<span style=\"color:orange\">*¿En caso de ser posible, y bajo qué condiciones se puede encontrar los splines cúbicos que cumplan con la condición de $m$?*      \n",
    "     \n",
    "<span style=\"color:orange\">Determine la ecuación que se debe modificar para poder cumplir con el requisito de m.        \n",
    "     \n",
    "Ninguna de las anteriores    \n",
    "<span style=\"color:orange\">*$S'_{0}(x_1) = S'_{1}(x_1)$*     \n",
    "    \n",
    "$S'_{0}(x_0) = y_0$    \n",
    "$S''_{1}(x_2) = 0$     \n",
    "$S''_{0}(x_1) = S''_{1}(x_1)$     \n",
    "$S_{1}(x_1) = y_1$     \n",
    "Sin solución única. Depende de los valores de m     \n",
    "$S_{1}(x_2) = y_2$    \n",
    "$S_{0}(x_1) = y_1$    \n",
    "$S''_{0}(x_0) = 0$   "
   ]
  },
  {
   "cell_type": "markdown",
   "metadata": {},
   "source": [
    "**1. $S_{0}(x_0) = y_0$**\n",
    "      \n",
    "$a_{0} + b_{0}(x_{0} - x_{0}) + c_{0}(x_{0} - x_{0})^2 + d_{0}(x_{0} - x_{0})^3 = 1$    \n",
    "      \n",
    "$a_{0} = 1$      \n",
    "      \n",
    "         \n",
    "**2. $S_{0}(x_1) = y_1$**    \n",
    "     \n",
    "$a_{0} + b_{0}(x_{1} - x_{0}) + c_{0}(x_{1} - x_{0})^2 + d_{0}(x_{1} - x_{0})^3 = 5$     \n",
    "\n",
    "$1 + b_{0}(0 - (-1)) + c_{0}(0 - (-1))^2 + d_{0}(0 - (-1))^3 = 5$    \n",
    "      \n",
    "$b_{0} + c_{0} + d_{0} = 4$  \n",
    "      \n",
    "         \n",
    "**3. $S_{1}(x_1) = y_1$**   \n",
    "     \n",
    "$a_{1} + b_{1}(x_{1} - x_{1}) + c_{1}(x_{1} - x_{1})^2 + d_{1}(x_{1} - x_{1})^3 = 5$     \n",
    "      \n",
    "$a_{1} = 5$  \n",
    "      \n",
    "         \n",
    "**4. $S_{1}(x_2) = y_2$**   \n",
    "     \n",
    "$a_{1} + b_{1}(x_{2} - x_{1}) + c_{1}(x_{2} - x_{1})^2 + d_{1}(x_{2} - x_{1})^3 = 3$     \n",
    "      \n",
    "$5 + b_{1}(1 - 0) + c_{1}(1 - 0)^2 + d_{1}(1 - 0)^3 = 3$  \n",
    "\n",
    "$b_{1} + c_{1} + d_{1} = -2$  \n",
    "      \n",
    "         \n",
    "**5. $S'_{0}(x_1) = S'_{1}(x_1)$**   \n",
    "     \n",
    "$b_{0} + 2c_{0}(x_{1} - x_{0}) + 3d_{0}(x_{1} - x_{0})^2 = b_{1}$     \n",
    "      \n",
    "$b_{0} + 2c_{0}(0 - (-1)) + 3d_{0}(0 - (-1))^2 = b_{1}$  \n",
    "\n",
    "$b_{0} + 2c_{0} + 3d_{0} = b_{1}$  \n",
    "      \n",
    "         \n",
    "**6. $S''_{0}(x_0) = 0$**   \n",
    "     \n",
    "$2c_{0} + 6d_{0}(x_{0} - x_{0}) = 0$     \n",
    "      \n",
    "$2c_{0} + 6d_{0}(-1 - (-1)) = 0$  \n",
    "\n",
    "$c_{0} = 0$  \n",
    "      \n",
    "       \n",
    "**7. $S''_{1}(x_2) = 0$**   \n",
    "     \n",
    "$2c_{1} + 6d_{1} = 0$     \n",
    "      \n",
    "$c_{1} = -3d_{1}$    \n",
    "     \n",
    "Ahora,    \n",
    "       \n",
    "$m = -2 = S_{1}(x_1)$     \n",
    "$-2 = b_{1}$"
   ]
  },
  {
   "cell_type": "markdown",
   "metadata": {},
   "source": [
    "De lo cual, obtenemos:     \n",
    "     \n",
    "$a_{0} = 1$    \n",
    "$b_{0} = 7$    \n",
    "$c_{0} = 0$    \n",
    "$d_{0} = -3$     \n",
    "     \n",
    "$a_{1} = 5$    \n",
    "$b_{1} = -2$    \n",
    "$c_{1} = 0$    \n",
    "$d_{1} = 0$            "
   ]
  },
  {
   "cell_type": "code",
   "execution_count": 3,
   "metadata": {},
   "outputs": [],
   "source": [
    "def Spline(x: float, x0: float, pars: dict[str, float]) -> float:\n",
    "    a = pars[\"a\"]\n",
    "    b = pars[\"b\"]\n",
    "    c = pars[\"c\"]\n",
    "    d = pars[\"d\"]\n",
    "    return a + b * (x - x0) + c * (x - x0) ** 2 + d * (x - x0) ** 3"
   ]
  },
  {
   "cell_type": "code",
   "execution_count": 14,
   "metadata": {},
   "outputs": [
    {
     "data": {
      "image/png": "[encoded data removed]",
      "text/plain": [
       "<Figure size 640x480 with 1 Axes>"
      ]
     },
     "metadata": {},
     "output_type": "display_data"
    }
   ],
   "source": [
    "import matplotlib.pyplot as plt\n",
    "import numpy as np\n",
    "\n",
    "xs = [-1, 0, 1]\n",
    "ys = [1, 5, 3]\n",
    "\n",
    "s = [\n",
    "    {\"a\": 1, \"b\": 7, \"c\": 0, \"d\": -3}, \n",
    "    {\"a\": 5, \"b\": -2, \"c\": 0, \"d\": 0},\n",
    "]\n",
    "\n",
    "for i, x_i in enumerate(xs[:-1]):\n",
    "    _x = np.linspace(x_i, xs[i + 1], 100)\n",
    "    _y = Spline(_x, x_i, s[i])\n",
    "    plt.plot(_x, _y, label=f\"Spline {i+1}\", color=\"green\")\n",
    "\n",
    "plt.scatter(xs, ys, color=\"blue\", label=\"Puntos dados\")\n",
    "\n",
    "plt.axhline(0, color='gray', linestyle='--', linewidth=0.5)\n",
    "plt.axvline(0, color='gray', linestyle='--', linewidth=0.5)\n",
    "plt.xlabel(\"x\")\n",
    "plt.ylabel(\"y\")\n",
    "plt.title(\"Interpolación con splines cúbicos (pendiente m = -2)\")\n",
    "plt.legend()\n",
    "plt.grid()\n",
    "plt.show()\n"
   ]
  },
  {
   "cell_type": "markdown",
   "metadata": {},
   "source": [
    "<span style=\"color:orange\">*Escriba la expresión del spline $S_0$. En caso de no existir solución, llene los casilleros con* **Nan**. \n",
    "\n",
    "$$S_{0}(x) = -3*(x - 1)^3 + 0*(x - 1)^2 +  7*(x - 1) + 1 $$     \n",
    "\n",
    "<span style=\"color:orange\">*Escriba la expresión del spline $S_1$. En caso de no existir solución, llene los casilleros con* **Nan**. \n",
    "\n",
    "\n",
    "$$S_{1}(x) = 0*(x - 0)^3 +  0*(x - 0)^2 +  -2*(x - 0) + 5 $$ \n",
    "\n",
    "\n"
   ]
  },
  {
   "cell_type": "markdown",
   "metadata": {},
   "source": [
    "---"
   ]
  },
  {
   "cell_type": "markdown",
   "metadata": {},
   "source": [
    "<span style=\"color:orange\">*7. Dados los puntos $(−1,1),(1,3)$. Determine el spline cúbico teniendo en cuenta que $f′(x_0) = 1$ , $f′(x_n) = 2$.*\n",
    "\n",
    "\n",
    "$$S_{0}(x) = 0.25*(x - (-1))^3 +  -0.5*(x - (-1))^2 +  1*(x - (-1)) + 1$$ "
   ]
  },
  {
   "cell_type": "code",
   "execution_count": 9,
   "metadata": {},
   "outputs": [],
   "source": [
    "def Spline(x: float, x0: float, pars: dict[str, float]) -> float:\n",
    "    a = pars[\"a\"]\n",
    "    b = pars[\"b\"]\n",
    "    c = pars[\"c\"]\n",
    "    d = pars[\"d\"]\n",
    "    return a + b * (x - x0) + c * (x - x0) ** 2 + d * (x - x0) ** 3"
   ]
  },
  {
   "cell_type": "code",
   "execution_count": 13,
   "metadata": {},
   "outputs": [
    {
     "data": {
      "image/png": "[encoded data removed]",
      "text/plain": [
       "<Figure size 640x480 with 1 Axes>"
      ]
     },
     "metadata": {},
     "output_type": "display_data"
    }
   ],
   "source": [
    "import matplotlib.pyplot as plt\n",
    "import numpy as np\n",
    "\n",
    "xs = [-1, 1]\n",
    "ys = [1, 3]\n",
    "s = [\n",
    "    {\"a\": 1, \"b\": 1, \"c\": -0.5, \"d\": 0.25},\n",
    "]\n",
    "for i, x_i in enumerate(xs[:-1]):\n",
    "    _x = np.linspace(x_i, xs[i + 1], 20)\n",
    "    _y = Spline(_x, x_i, s[i])\n",
    "    plt.plot(_x, _y, color=\"green\")\n",
    "\n",
    "plt.scatter(xs, ys)\n",
    "plt.xlabel(\"x\")\n",
    "plt.ylabel(\"y\")\n",
    "plt.title(\"Interpolación de splines cúbicos\")\n",
    "plt.show()"
   ]
  },
  {
   "cell_type": "markdown",
   "metadata": {},
   "source": [
    "<span style=\"color:orange\">*8. La interpolación de un conjunto de puntos usando polinomios de Lagrange $P(x)$ está dada por la fórmula:*     \n",
    "\n",
    "### Interpolación de Lagrange\n",
    "\n",
    "**Fórmula:**\n",
    "\n",
    "$$\n",
    "P_n(x) = \\sum_{i=0}^{n-1} f(x_i) L_i(x)\n",
    "$$\n",
    "\n",
    "donde:\n",
    "\n",
    "$$\n",
    "L_i(x) = \\prod_{\\substack{i=0 \\\\ j \\ne i}}^{n-1} \\frac{x - x_j}{x_i - x_j}\n",
    "$$\n",
    "\n",
    "\n",
    "<span style=\"color:orange\">*Dados los puntos $(0,0),(1,1),(2,2),(3,3)$,*     \n",
    "\n",
    "El polinomio resultante simplificado tiene orden* = **1** \n",
    "\n",
    "\n",
    "<span style=\"color:orange\">Encuentre el polinomio de Lagrange respectivo, (simplifique la expresión para facilitar la evaluación)    \n",
    "\n",
    "**Datos:**     \n",
    "**n** = 4 (Número de coordenadas)    \n",
    "**i** = 0, 1, 2, 3    \n",
    "**j** = 0, 1, 2, 3    \n",
    "$x_{0} = 0$---------------$f(x_{0}) = 0$       \n",
    "$x_{1} = 1$---------------$f(x_{1}) = 1$        \n",
    "$x_{2} = 2$---------------$f(x_{2}) = 2$        \n",
    "$x_{3} = 3$---------------$f(x_{3}) = 3$     \n",
    "\n",
    "**Iteración #1 i=0, $j \\ne 0$, j=1,2,3**    \n",
    "       \n",
    "$$L_{0}(x) = \\frac{(x - x_{1})(x - x_{2})(x - x_{3})}{(x_{0} - x_{1})(x_{0} - x_{2})(x_{0} - x_{3})} = \\frac{(x - 1)(x - 2)(x - 3)}{(0 - 1)(0 - 2)(0 - 3)} = \\frac{(x - 1)(x - 2)(x - 3)}{-6}$$      \n",
    "       \n",
    "      \n",
    "**Iteración #2 **i=1,** $j \\ne 1$, j=0,2,3**     \n",
    "$$ L_{1}(x) = \\frac{(x - x_{0})(x - x_{2})(x - x_{3})}{(x_{1} - x_{0})(x_{1} - x_{2})(x_{1} - x_{3})} = \\frac{(x - 0)(x - 2)(x - 3)}{(1 - 0)(1 - 2)(1 - 3)} = \\frac{x (x - 2)(x - 3)}{2} $$ \n",
    "     \n",
    "         \n",
    "**Iteración #3 **i=2,** $j \\ne 2$, j=0,1,3** \n",
    "$$ L_{2}(x) = \\frac{(x - x_{0})(x - x_{1})(x - x_{3})}{(x_{2} - x_{0})(x_{2} - x_{1})(x_{2} - x_{3})} = \\frac{(x - 0)(x - 1)(x - 3)}{(2 - 0)(2 - 1)(2 - 3)} = \\frac{x (x - 1)(x - 3)}{-2} $$ \n",
    "      \n",
    "      \n",
    "**Iteración #4 **i=3,** $j \\ne 3$, j=0,1,2** \n",
    "$$ L_{3}(x) = \\frac{(x - x_{0})(x - x_{1})(x - x_{2})}{(x_{3} - x_{0})(x_{3} - x_{1})(x_{3} - x_{2})} = \\frac{(x - 0)(x - 1)(x - 2)}{(3 - 0)(3 - 1)(3 - 2)} = \\frac{x (x - 1)(x - 2)}{6}$$\n",
    "    \n",
    "      \n",
    "\n",
    "**Ahora, tenemos:**     \n",
    "            \n",
    "$$P(x) = f(x_{0})L_{0}(x) + f(x_{1})L_{1}(x) + f(x_{2})L_{2}(x) + f(x_{3})L_{3}(x)$$      \n",
    "\n",
    "$$P(x) = 0 \\cdot \\frac{(x - 1)(x - 2)(x - 3)}{-6} + 1*\\frac{1}{2} (x^3 - 5x^2 + 6x) + 2 * -\\frac{1}{2} (x^3 - 4x^2 + 3x) + 3 * \\frac{1}{6} (x^3 - 3x^2 + 2x)$$      \n",
    "\n",
    "$$P(x) = \\frac{x^3}{2} + \\frac{x^3}{2} - x^3 - \\frac{5x^2}{2} - \\frac{3x^2}{2} + 4x^2 + 3x - 3x + x$$    \n",
    "\n",
    "**$$P(x) = x$$**\n",
    "     \n",
    "<span style=\"color:orange\">*Usando el polinomio $P(x)$ que obtuvo de respuesta, calcule:*    \n",
    "\n",
    "$P(x = 3.78)$ = **3.78**    \n",
    "$P(x = 19.102)$ = **19.102**"
   ]
  }
 ],
 "metadata": {
  "kernelspec": {
   "display_name": "Python 3",
   "language": "python",
   "name": "python3"
  },
  "language_info": {
   "codemirror_mode": {
    "name": "ipython",
    "version": 3
   },
   "file_extension": ".py",
   "mimetype": "text/x-python",
   "name": "python",
   "nbconvert_exporter": "python",
   "pygments_lexer": "ipython3",
   "version": "3.12.6"
  }
 },
 "nbformat": 4,
 "nbformat_minor": 2
}
